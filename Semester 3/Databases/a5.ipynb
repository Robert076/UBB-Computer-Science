{
    "metadata": {
        "kernelspec": {
            "name": "SQL",
            "display_name": "SQL",
            "language": "sql"
        },
        "language_info": {
            "name": "sql",
            "version": ""
        }
    },
    "nbformat_minor": 2,
    "nbformat": 4,
    "cells": [
        {
            "cell_type": "code",
            "source": [
                "CREATE DATABASE assignment5"
            ],
            "metadata": {
                "azdata_cell_guid": "2a28587e-7eab-4286-ae5f-fff7c3adbda8",
                "language": "sql"
            },
            "outputs": [
                {
                    "output_type": "display_data",
                    "data": {
                        "text/html": "Commands completed successfully."
                    },
                    "metadata": {}
                },
                {
                    "output_type": "display_data",
                    "data": {
                        "text/html": "Total execution time: 00:00:00.108"
                    },
                    "metadata": {}
                }
            ],
            "execution_count": 1
        },
        {
            "cell_type": "code",
            "source": [
                "USE assignment5"
            ],
            "metadata": {
                "language": "sql",
                "azdata_cell_guid": "76bca183-2bfa-4454-8f3e-a4019cb25d84"
            },
            "outputs": [
                {
                    "output_type": "display_data",
                    "data": {
                        "text/html": "Commands completed successfully."
                    },
                    "metadata": {}
                },
                {
                    "output_type": "display_data",
                    "data": {
                        "text/html": "Total execution time: 00:00:00.003"
                    },
                    "metadata": {}
                }
            ],
            "execution_count": 2
        },
        {
            "cell_type": "code",
            "source": [
                "CREATE TABLE Students(\n",
                "    id int primary key identity(1, 1),\n",
                "    name varchar(50) not null\n",
                ")"
            ],
            "metadata": {
                "language": "sql",
                "azdata_cell_guid": "cc03d277-a7b4-403c-99dc-268b51dd3fad"
            },
            "outputs": [
                {
                    "output_type": "display_data",
                    "data": {
                        "text/html": "Commands completed successfully."
                    },
                    "metadata": {}
                },
                {
                    "output_type": "display_data",
                    "data": {
                        "text/html": "Total execution time: 00:00:00.024"
                    },
                    "metadata": {}
                }
            ],
            "execution_count": 3
        },
        {
            "cell_type": "code",
            "source": [
                "CREATE TABLE Courses(\n",
                "    id int primary key identity(1, 1),\n",
                "    course varchar(50) not null\n",
                ")"
            ],
            "metadata": {
                "language": "sql",
                "azdata_cell_guid": "08cb8322-ca70-4361-be17-772e63620eb7"
            },
            "outputs": [
                {
                    "output_type": "display_data",
                    "data": {
                        "text/html": "Commands completed successfully."
                    },
                    "metadata": {}
                },
                {
                    "output_type": "display_data",
                    "data": {
                        "text/html": "Total execution time: 00:00:00.012"
                    },
                    "metadata": {}
                }
            ],
            "execution_count": 4
        },
        {
            "cell_type": "code",
            "source": [
                "CREATE TABLE StudentCourse(\n",
                "    id int primary key identity(1, 1),\n",
                "    sid int not null,\n",
                "    constraint FK_Students foreign key(sid) references Students(id)\n",
                "        on delete cascade,\n",
                "    cid int not null,\n",
                "    constraint FK_Courses foreign key(cid) references Courses(id)\n",
                "        on delete cascade\n",
                "\n",
                ")"
            ],
            "metadata": {
                "language": "sql",
                "azdata_cell_guid": "a1b3b777-eaef-4304-b01b-0e1fab91e4d5"
            },
            "outputs": [
                {
                    "output_type": "display_data",
                    "data": {
                        "text/html": "Commands completed successfully."
                    },
                    "metadata": {}
                },
                {
                    "output_type": "display_data",
                    "data": {
                        "text/html": "Total execution time: 00:00:00.027"
                    },
                    "metadata": {}
                }
            ],
            "execution_count": 5
        },
        {
            "cell_type": "code",
            "source": [
                "INSERT INTO Students(name) VALUES ('Robert'), ('Ariana'), ('Caleb'), ('Mihai'), ('Alex')"
            ],
            "metadata": {
                "language": "sql",
                "azdata_cell_guid": "dc6216af-a42c-4af7-bef9-482e650c122f"
            },
            "outputs": [
                {
                    "output_type": "display_data",
                    "data": {
                        "text/html": "(5 rows affected)"
                    },
                    "metadata": {}
                },
                {
                    "output_type": "display_data",
                    "data": {
                        "text/html": "Total execution time: 00:00:00.031"
                    },
                    "metadata": {}
                }
            ],
            "execution_count": 8
        },
        {
            "cell_type": "code",
            "source": [
                "INSERT INTO Courses(course) VALUES('Databases'), ('Advanced Programming Methods'), ('Probability and Statistics')"
            ],
            "metadata": {
                "language": "sql",
                "azdata_cell_guid": "5afc3ca8-dc47-45ce-962a-a1864c706beb"
            },
            "outputs": [
                {
                    "output_type": "display_data",
                    "data": {
                        "text/html": "(3 rows affected)"
                    },
                    "metadata": {}
                },
                {
                    "output_type": "display_data",
                    "data": {
                        "text/html": "Total execution time: 00:00:00.010"
                    },
                    "metadata": {}
                }
            ],
            "execution_count": 9
        },
        {
            "cell_type": "code",
            "source": [
                "SELECT * FROM Students\n",
                "SELECT * FROM Courses"
            ],
            "metadata": {
                "language": "sql",
                "azdata_cell_guid": "9189b90d-a672-4a55-b706-e00c3c55eca0"
            },
            "outputs": [
                {
                    "output_type": "display_data",
                    "data": {
                        "text/html": "(5 rows affected)"
                    },
                    "metadata": {}
                },
                {
                    "output_type": "display_data",
                    "data": {
                        "text/html": "(3 rows affected)"
                    },
                    "metadata": {}
                },
                {
                    "output_type": "display_data",
                    "data": {
                        "text/html": "Total execution time: 00:00:00.009"
                    },
                    "metadata": {}
                },
                {
                    "output_type": "execute_result",
                    "metadata": {},
                    "execution_count": 17,
                    "data": {
                        "application/vnd.dataresource+json": {
                            "schema": {
                                "fields": [
                                    {
                                        "name": "id"
                                    },
                                    {
                                        "name": "name"
                                    }
                                ]
                            },
                            "data": [
                                {
                                    "id": "1",
                                    "name": "Robert"
                                },
                                {
                                    "id": "2",
                                    "name": "Ariana"
                                },
                                {
                                    "id": "3",
                                    "name": "Caleb"
                                },
                                {
                                    "id": "4",
                                    "name": "Mihai"
                                },
                                {
                                    "id": "5",
                                    "name": "Alex"
                                }
                            ]
                        },
                        "text/html": [
                            "<table>",
                            "<tr><th>id</th><th>name</th></tr>",
                            "<tr><td>1</td><td>Robert</td></tr>",
                            "<tr><td>2</td><td>Ariana</td></tr>",
                            "<tr><td>3</td><td>Caleb</td></tr>",
                            "<tr><td>4</td><td>Mihai</td></tr>",
                            "<tr><td>5</td><td>Alex</td></tr>",
                            "</table>"
                        ]
                    }
                },
                {
                    "output_type": "execute_result",
                    "metadata": {},
                    "execution_count": 17,
                    "data": {
                        "application/vnd.dataresource+json": {
                            "schema": {
                                "fields": [
                                    {
                                        "name": "id"
                                    },
                                    {
                                        "name": "course"
                                    }
                                ]
                            },
                            "data": [
                                {
                                    "id": "1",
                                    "course": "Databases"
                                },
                                {
                                    "id": "2",
                                    "course": "Advanced Programming Methods"
                                },
                                {
                                    "id": "3",
                                    "course": "Probability and Statistics"
                                }
                            ]
                        },
                        "text/html": [
                            "<table>",
                            "<tr><th>id</th><th>course</th></tr>",
                            "<tr><td>1</td><td>Databases</td></tr>",
                            "<tr><td>2</td><td>Advanced Programming Methods</td></tr>",
                            "<tr><td>3</td><td>Probability and Statistics</td></tr>",
                            "</table>"
                        ]
                    }
                }
            ],
            "execution_count": 17
        },
        {
            "cell_type": "code",
            "source": [
                "INSERT INTO StudentCourse(sid, cid) VALUES(1, 1), (1, 2), (1, 3), (2, 3), (3, 3), (3, 1), (4, 1), (4, 2), (4, 3), (5, 1) "
            ],
            "metadata": {
                "language": "sql",
                "azdata_cell_guid": "9e7b3258-c9e5-4bf7-a0b1-0689ad31072e"
            },
            "outputs": [
                {
                    "output_type": "display_data",
                    "data": {
                        "text/html": "(10 rows affected)"
                    },
                    "metadata": {}
                },
                {
                    "output_type": "display_data",
                    "data": {
                        "text/html": "Total execution time: 00:00:00.038"
                    },
                    "metadata": {}
                }
            ],
            "execution_count": 18
        },
        {
            "cell_type": "code",
            "source": [
                "SELECT name, COUNT(*) nrCursuri FROM Students s\n",
                "INNER JOIN StudentCourse sc ON s.id = sc.sid\n",
                "INNER JOIN Courses c ON sc.cid = c.id\n",
                "GROUP BY name"
            ],
            "metadata": {
                "language": "sql",
                "azdata_cell_guid": "b6b33fd0-9a15-4437-bffd-9bd7cc229d97"
            },
            "outputs": [
                {
                    "output_type": "display_data",
                    "data": {
                        "text/html": "(5 rows affected)"
                    },
                    "metadata": {}
                },
                {
                    "output_type": "display_data",
                    "data": {
                        "text/html": "Total execution time: 00:00:00.007"
                    },
                    "metadata": {}
                },
                {
                    "output_type": "execute_result",
                    "metadata": {},
                    "execution_count": 26,
                    "data": {
                        "application/vnd.dataresource+json": {
                            "schema": {
                                "fields": [
                                    {
                                        "name": "name"
                                    },
                                    {
                                        "name": "nrCursuri"
                                    }
                                ]
                            },
                            "data": [
                                {
                                    "name": "Alex",
                                    "nrCursuri": "1"
                                },
                                {
                                    "name": "Ariana",
                                    "nrCursuri": "1"
                                },
                                {
                                    "name": "Caleb",
                                    "nrCursuri": "2"
                                },
                                {
                                    "name": "Mihai",
                                    "nrCursuri": "3"
                                },
                                {
                                    "name": "Robert",
                                    "nrCursuri": "3"
                                }
                            ]
                        },
                        "text/html": [
                            "<table>",
                            "<tr><th>name</th><th>nrCursuri</th></tr>",
                            "<tr><td>Alex</td><td>1</td></tr>",
                            "<tr><td>Ariana</td><td>1</td></tr>",
                            "<tr><td>Caleb</td><td>2</td></tr>",
                            "<tr><td>Mihai</td><td>3</td></tr>",
                            "<tr><td>Robert</td><td>3</td></tr>",
                            "</table>"
                        ]
                    }
                }
            ],
            "execution_count": 26
        },
        {
            "cell_type": "code",
            "source": [
                "-- clustered index scan pentru ca nu avem niciun where\n",
                "-- in sql, avem un singur clustered index pe tabel, acest index mentine o ordine fizica a elementelor\n",
                "-- pentru ca putem avea doar o ordine fizica(logic) putem avea doar un clustered index\n",
                "-- ca default behaviour, primary key-urile sunt clustered index pentru ca ele mentin aceasta ordine\n",
                "-- clustered index scan : cand trebuie sa verfiicam toate records-urile din tabel pentru ca nu avem un filtru precum where care sa ne ajute\n",
                "-- clustered index seek: cand avem un filtru de care sa ne folosim, deci vom avea o cautare mai rapida deoarece nu procesam fiecare tuple din baza de date\n",
                "\n",
                "-- asta e un scan \n",
                "SELECT id, name \n",
                "FROM Students;"
            ],
            "metadata": {
                "language": "sql",
                "azdata_cell_guid": "c8388911-7282-4d41-b713-fd432b0390e7"
            },
            "outputs": [
                {
                    "output_type": "display_data",
                    "data": {
                        "text/html": "(5 rows affected)"
                    },
                    "metadata": {}
                },
                {
                    "output_type": "display_data",
                    "data": {
                        "text/html": "Total execution time: 00:00:00.016"
                    },
                    "metadata": {}
                },
                {
                    "output_type": "execute_result",
                    "metadata": {},
                    "execution_count": 27,
                    "data": {
                        "application/vnd.dataresource+json": {
                            "schema": {
                                "fields": [
                                    {
                                        "name": "id"
                                    },
                                    {
                                        "name": "name"
                                    }
                                ]
                            },
                            "data": [
                                {
                                    "id": "1",
                                    "name": "Robert"
                                },
                                {
                                    "id": "2",
                                    "name": "Ariana"
                                },
                                {
                                    "id": "3",
                                    "name": "Caleb"
                                },
                                {
                                    "id": "4",
                                    "name": "Mihai"
                                },
                                {
                                    "id": "5",
                                    "name": "Alex"
                                }
                            ]
                        },
                        "text/html": [
                            "<table>",
                            "<tr><th>id</th><th>name</th></tr>",
                            "<tr><td>1</td><td>Robert</td></tr>",
                            "<tr><td>2</td><td>Ariana</td></tr>",
                            "<tr><td>3</td><td>Caleb</td></tr>",
                            "<tr><td>4</td><td>Mihai</td></tr>",
                            "<tr><td>5</td><td>Alex</td></tr>",
                            "</table>"
                        ]
                    }
                }
            ],
            "execution_count": 27
        },
        {
            "cell_type": "code",
            "source": [
                "-- clustered index seek: ne folosim de cheia primara dupa care filtram. daca ne foloseam de altceva gen WHERE name LIKE ... era tot scan.\n",
                "SELECT * \n",
                "FROM Students \n",
                "WHERE id = 2;\n",
                ""
            ],
            "metadata": {
                "language": "sql",
                "azdata_cell_guid": "25287272-ded8-430a-bf5a-93448054548b"
            },
            "outputs": [
                {
                    "output_type": "display_data",
                    "data": {
                        "text/html": "(1 row affected)"
                    },
                    "metadata": {}
                },
                {
                    "output_type": "display_data",
                    "data": {
                        "text/html": "Total execution time: 00:00:00.006"
                    },
                    "metadata": {}
                },
                {
                    "output_type": "execute_result",
                    "metadata": {},
                    "execution_count": 29,
                    "data": {
                        "application/vnd.dataresource+json": {
                            "schema": {
                                "fields": [
                                    {
                                        "name": "id"
                                    },
                                    {
                                        "name": "name"
                                    }
                                ]
                            },
                            "data": [
                                {
                                    "id": "2",
                                    "name": "Ariana"
                                }
                            ]
                        },
                        "text/html": [
                            "<table>",
                            "<tr><th>id</th><th>name</th></tr>",
                            "<tr><td>2</td><td>Ariana</td></tr>",
                            "</table>"
                        ]
                    }
                }
            ],
            "execution_count": 29
        },
        {
            "cell_type": "code",
            "source": [
                "CREATE NONCLUSTERED INDEX IX_Students_Name\n",
                "ON Students(name);"
            ],
            "metadata": {
                "language": "sql",
                "azdata_cell_guid": "42eab16e-3e10-452d-a8f0-0a09f6a8eac1"
            },
            "outputs": [
                {
                    "output_type": "display_data",
                    "data": {
                        "text/html": "Commands completed successfully."
                    },
                    "metadata": {}
                },
                {
                    "output_type": "display_data",
                    "data": {
                        "text/html": "Total execution time: 00:00:00.053"
                    },
                    "metadata": {}
                }
            ],
            "execution_count": 30
        },
        {
            "cell_type": "code",
            "source": [
                "SELECT name \n",
                "FROM Students \n",
                "WHERE name = 'Robert'\n",
                ""
            ],
            "metadata": {
                "language": "sql",
                "azdata_cell_guid": "92779c53-acca-4ac8-ac3a-a961254205dc"
            },
            "outputs": [
                {
                    "output_type": "display_data",
                    "data": {
                        "text/html": "(1 row affected)"
                    },
                    "metadata": {}
                },
                {
                    "output_type": "display_data",
                    "data": {
                        "text/html": "Total execution time: 00:00:00.024"
                    },
                    "metadata": {}
                },
                {
                    "output_type": "execute_result",
                    "metadata": {},
                    "execution_count": 34,
                    "data": {
                        "application/vnd.dataresource+json": {
                            "schema": {
                                "fields": [
                                    {
                                        "name": "name"
                                    }
                                ]
                            },
                            "data": [
                                {
                                    "name": "Robert"
                                }
                            ]
                        },
                        "text/html": [
                            "<table>",
                            "<tr><th>name</th></tr>",
                            "<tr><td>Robert</td></tr>",
                            "</table>"
                        ]
                    }
                }
            ],
            "execution_count": 34
        },
        {
            "cell_type": "code",
            "source": [
                "-- A Key Lookup happens when SQL Server is using an index (typically a non-clustered index) to find matching rows,\n",
                "-- but it needs to go back to the clustered index (or main table) to retrieve additional columns \n",
                "-- that are not part of the non-clustered index.\n",
                "ALTER TABLE Students ADD age int"
            ],
            "metadata": {
                "language": "sql",
                "azdata_cell_guid": "d4b3f95c-107b-4f47-a650-5e5e4087e62d"
            },
            "outputs": [
                {
                    "output_type": "display_data",
                    "data": {
                        "text/html": "Commands completed successfully."
                    },
                    "metadata": {}
                },
                {
                    "output_type": "display_data",
                    "data": {
                        "text/html": "Total execution time: 00:00:00.018"
                    },
                    "metadata": {}
                }
            ],
            "execution_count": 37
        },
        {
            "cell_type": "code",
            "source": [
                "UPDATE Students SET age = 20 WHERE 1=1"
            ],
            "metadata": {
                "language": "sql",
                "azdata_cell_guid": "862e988a-ba92-44c5-99f4-53862fb3e918"
            },
            "outputs": [
                {
                    "output_type": "display_data",
                    "data": {
                        "text/html": "(5 rows affected)"
                    },
                    "metadata": {}
                },
                {
                    "output_type": "display_data",
                    "data": {
                        "text/html": "Total execution time: 00:00:00.028"
                    },
                    "metadata": {}
                }
            ],
            "execution_count": 39
        },
        {
            "cell_type": "code",
            "source": [
                "UPDATE Students set age = 18 WHERE name IN ('Ariana', 'Caleb')"
            ],
            "metadata": {
                "language": "sql",
                "azdata_cell_guid": "7d9f5825-bdde-4501-9b01-ef80da808b94"
            },
            "outputs": [
                {
                    "output_type": "display_data",
                    "data": {
                        "text/html": "(2 rows affected)"
                    },
                    "metadata": {}
                },
                {
                    "output_type": "display_data",
                    "data": {
                        "text/html": "Total execution time: 00:00:00.074"
                    },
                    "metadata": {}
                }
            ],
            "execution_count": 41
        },
        {
            "cell_type": "code",
            "source": [
                "SELECT * FROM Students"
            ],
            "metadata": {
                "language": "sql",
                "azdata_cell_guid": "455b0ff8-199f-432f-861c-c9e5c229053c"
            },
            "outputs": [
                {
                    "output_type": "display_data",
                    "data": {
                        "text/html": "(5 rows affected)"
                    },
                    "metadata": {}
                },
                {
                    "output_type": "display_data",
                    "data": {
                        "text/html": "Total execution time: 00:00:00.005"
                    },
                    "metadata": {}
                },
                {
                    "output_type": "execute_result",
                    "metadata": {},
                    "execution_count": 42,
                    "data": {
                        "application/vnd.dataresource+json": {
                            "schema": {
                                "fields": [
                                    {
                                        "name": "id"
                                    },
                                    {
                                        "name": "name"
                                    },
                                    {
                                        "name": "age"
                                    }
                                ]
                            },
                            "data": [
                                {
                                    "id": "1",
                                    "name": "Robert",
                                    "age": "20"
                                },
                                {
                                    "id": "2",
                                    "name": "Ariana",
                                    "age": "18"
                                },
                                {
                                    "id": "3",
                                    "name": "Caleb",
                                    "age": "18"
                                },
                                {
                                    "id": "4",
                                    "name": "Mihai",
                                    "age": "20"
                                },
                                {
                                    "id": "5",
                                    "name": "Alex",
                                    "age": "20"
                                }
                            ]
                        },
                        "text/html": [
                            "<table>",
                            "<tr><th>id</th><th>name</th><th>age</th></tr>",
                            "<tr><td>1</td><td>Robert</td><td>20</td></tr>",
                            "<tr><td>2</td><td>Ariana</td><td>18</td></tr>",
                            "<tr><td>3</td><td>Caleb</td><td>18</td></tr>",
                            "<tr><td>4</td><td>Mihai</td><td>20</td></tr>",
                            "<tr><td>5</td><td>Alex</td><td>20</td></tr>",
                            "</table>"
                        ]
                    }
                }
            ],
            "execution_count": 42
        },
        {
            "cell_type": "code",
            "source": [
                "-- key lookup se uita in index pt nume si de acolo foloseste idu sa caute coloana in tabelu principal sa vada varsta\n",
                "SELECT name, age\n",
                "FROM Students\n",
                "WHERE name = 'Ariana';\n",
                ""
            ],
            "metadata": {
                "language": "sql",
                "azdata_cell_guid": "9fdaf010-f96a-4ec2-87c7-25637020f2af"
            },
            "outputs": [
                {
                    "output_type": "display_data",
                    "data": {
                        "text/html": "(1 row affected)"
                    },
                    "metadata": {}
                },
                {
                    "output_type": "display_data",
                    "data": {
                        "text/html": "Total execution time: 00:00:00.018"
                    },
                    "metadata": {}
                },
                {
                    "output_type": "execute_result",
                    "metadata": {},
                    "execution_count": 43,
                    "data": {
                        "application/vnd.dataresource+json": {
                            "schema": {
                                "fields": [
                                    {
                                        "name": "name"
                                    },
                                    {
                                        "name": "age"
                                    }
                                ]
                            },
                            "data": [
                                {
                                    "name": "Ariana",
                                    "age": "18"
                                }
                            ]
                        },
                        "text/html": [
                            "<table>",
                            "<tr><th>name</th><th>age</th></tr>",
                            "<tr><td>Ariana</td><td>18</td></tr>",
                            "</table>"
                        ]
                    }
                }
            ],
            "execution_count": 43
        },
        {
            "cell_type": "code",
            "source": [
                "SELECT * FROM Courses WHERE course = 'Databases'\n",
                "-- execution plan: nu am index, deci ma duc in fiecare entry din baza de date si caut pana gasesc una cu coloana course = databases"
            ],
            "metadata": {
                "language": "sql",
                "azdata_cell_guid": "522fef7c-716b-47a7-8e0f-7418e3542369"
            },
            "outputs": [
                {
                    "output_type": "display_data",
                    "data": {
                        "text/html": "(1 row affected)"
                    },
                    "metadata": {}
                },
                {
                    "output_type": "display_data",
                    "data": {
                        "text/html": "Total execution time: 00:00:00.078"
                    },
                    "metadata": {}
                },
                {
                    "output_type": "execute_result",
                    "metadata": {},
                    "execution_count": 44,
                    "data": {
                        "application/vnd.dataresource+json": {
                            "schema": {
                                "fields": [
                                    {
                                        "name": "id"
                                    },
                                    {
                                        "name": "course"
                                    }
                                ]
                            },
                            "data": [
                                {
                                    "id": "1",
                                    "course": "Databases"
                                }
                            ]
                        },
                        "text/html": [
                            "<table>",
                            "<tr><th>id</th><th>course</th></tr>",
                            "<tr><td>1</td><td>Databases</td></tr>",
                            "</table>"
                        ]
                    }
                }
            ],
            "execution_count": 44
        },
        {
            "cell_type": "code",
            "source": [
                "CREATE NONCLUSTERED INDEX IX_Courses_Course\n",
                "ON Courses(course);"
            ],
            "metadata": {
                "language": "sql",
                "azdata_cell_guid": "f1f6d10c-8a33-4cf6-bd8b-d941600845ee"
            },
            "outputs": [
                {
                    "output_type": "display_data",
                    "data": {
                        "text/html": "Commands completed successfully."
                    },
                    "metadata": {}
                },
                {
                    "output_type": "display_data",
                    "data": {
                        "text/html": "Total execution time: 00:00:00.020"
                    },
                    "metadata": {}
                }
            ],
            "execution_count": 45
        },
        {
            "cell_type": "code",
            "source": [
                "SELECT * FROM Courses WHERE course = 'Databases'\n",
                "-- execution plan: am index, deci ma duc direct la coloana de databases fara sa mai caut altundeva si iau direct idu de acolo. O(1). inainte era O(n)"
            ],
            "metadata": {
                "language": "sql",
                "azdata_cell_guid": "04da08b7-6369-4360-ab7f-c614897a4b01"
            },
            "outputs": [
                {
                    "output_type": "display_data",
                    "data": {
                        "text/html": "(1 row affected)"
                    },
                    "metadata": {}
                },
                {
                    "output_type": "display_data",
                    "data": {
                        "text/html": "Total execution time: 00:00:00.017"
                    },
                    "metadata": {}
                },
                {
                    "output_type": "execute_result",
                    "metadata": {},
                    "execution_count": 46,
                    "data": {
                        "application/vnd.dataresource+json": {
                            "schema": {
                                "fields": [
                                    {
                                        "name": "id"
                                    },
                                    {
                                        "name": "course"
                                    }
                                ]
                            },
                            "data": [
                                {
                                    "id": "1",
                                    "course": "Databases"
                                }
                            ]
                        },
                        "text/html": [
                            "<table>",
                            "<tr><th>id</th><th>course</th></tr>",
                            "<tr><td>1</td><td>Databases</td></tr>",
                            "</table>"
                        ]
                    }
                }
            ],
            "execution_count": 46
        },
        {
            "cell_type": "code",
            "source": [
                "CREATE VIEW StudentCoursesView AS\n",
                "SELECT\n",
                "    s.name AS StudentName,\n",
                "    c.course AS CourseName\n",
                "FROM\n",
                "    Students s\n",
                "JOIN\n",
                "    StudentCourse sc ON s.id = sc.sid\n",
                "JOIN\n",
                "    Courses c ON sc.cid = c.id;\n",
                ""
            ],
            "metadata": {
                "language": "sql",
                "azdata_cell_guid": "f0f7371e-7200-4a3d-9087-83efd504e4ba"
            },
            "outputs": [
                {
                    "output_type": "display_data",
                    "data": {
                        "text/html": "Commands completed successfully."
                    },
                    "metadata": {}
                },
                {
                    "output_type": "display_data",
                    "data": {
                        "text/html": "Total execution time: 00:00:00.032"
                    },
                    "metadata": {}
                }
            ],
            "execution_count": 47
        },
        {
            "cell_type": "code",
            "source": [
                "SELECT * FROM StudentCoursesView"
            ],
            "metadata": {
                "language": "sql",
                "azdata_cell_guid": "8e5616be-c510-4498-ae1c-2742598d7a76"
            },
            "outputs": [
                {
                    "output_type": "display_data",
                    "data": {
                        "text/html": "(10 rows affected)"
                    },
                    "metadata": {}
                },
                {
                    "output_type": "display_data",
                    "data": {
                        "text/html": "Total execution time: 00:00:00.041"
                    },
                    "metadata": {}
                },
                {
                    "output_type": "execute_result",
                    "metadata": {},
                    "execution_count": 48,
                    "data": {
                        "application/vnd.dataresource+json": {
                            "schema": {
                                "fields": [
                                    {
                                        "name": "StudentName"
                                    },
                                    {
                                        "name": "CourseName"
                                    }
                                ]
                            },
                            "data": [
                                {
                                    "StudentName": "Robert",
                                    "CourseName": "Databases"
                                },
                                {
                                    "StudentName": "Robert",
                                    "CourseName": "Advanced Programming Methods"
                                },
                                {
                                    "StudentName": "Robert",
                                    "CourseName": "Probability and Statistics"
                                },
                                {
                                    "StudentName": "Ariana",
                                    "CourseName": "Probability and Statistics"
                                },
                                {
                                    "StudentName": "Caleb",
                                    "CourseName": "Probability and Statistics"
                                },
                                {
                                    "StudentName": "Caleb",
                                    "CourseName": "Databases"
                                },
                                {
                                    "StudentName": "Mihai",
                                    "CourseName": "Databases"
                                },
                                {
                                    "StudentName": "Mihai",
                                    "CourseName": "Advanced Programming Methods"
                                },
                                {
                                    "StudentName": "Mihai",
                                    "CourseName": "Probability and Statistics"
                                },
                                {
                                    "StudentName": "Alex",
                                    "CourseName": "Databases"
                                }
                            ]
                        },
                        "text/html": [
                            "<table>",
                            "<tr><th>StudentName</th><th>CourseName</th></tr>",
                            "<tr><td>Robert</td><td>Databases</td></tr>",
                            "<tr><td>Robert</td><td>Advanced Programming Methods</td></tr>",
                            "<tr><td>Robert</td><td>Probability and Statistics</td></tr>",
                            "<tr><td>Ariana</td><td>Probability and Statistics</td></tr>",
                            "<tr><td>Caleb</td><td>Probability and Statistics</td></tr>",
                            "<tr><td>Caleb</td><td>Databases</td></tr>",
                            "<tr><td>Mihai</td><td>Databases</td></tr>",
                            "<tr><td>Mihai</td><td>Advanced Programming Methods</td></tr>",
                            "<tr><td>Mihai</td><td>Probability and Statistics</td></tr>",
                            "<tr><td>Alex</td><td>Databases</td></tr>",
                            "</table>"
                        ]
                    }
                }
            ],
            "execution_count": 48
        }
    ]
}