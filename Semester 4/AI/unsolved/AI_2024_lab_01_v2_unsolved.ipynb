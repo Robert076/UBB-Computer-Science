{
  "cells": [
    {
      "cell_type": "markdown",
      "source": [
        "# A.I. Assignment 1\n",
        "\n",
        "Set up and familiarize with some Python packages. A simple application with random numbers.\n",
        "\n",
        "For this assignment you have these tasks:\n",
        "1. Prepare the working environment\n",
        "2. Full development cycle with Anaconda and Python -> create Python files + run / debug the python code + view results / outputs\n",
        "3. Get familiarized with  Numpy (create and manipulate arrays) \n",
        "4. Get familiarized with  Matplotlib  (display various graphics)\n",
        "5. Get familiarized with  Pytorch tensors (creation and manipulation)\n",
        "6. Get familiarized with  PIL/PILLOW (python image library)\n",
        "7. Two applications: Simulate an unfair probability spinner and performe a Monte Carlo Simulation  "
      ],
      "metadata": {},
      "id": "opposite-dream"
    },
    {
      "cell_type": "markdown",
      "source": [
        "## Task 1 -- Install the working environment"
      ],
      "metadata": {},
      "id": "3c5e56a6"
    },
    {
      "cell_type": "markdown",
      "source": [
        "\n",
        "\n",
        "In order to present the solved tasks from the laboratories a Jupyter notebook is preferred. For this prepare the working environment as follows:  \n",
        "\n",
        "1. Install Anaconda (https://www.anaconda.com/download) distribution and navigator. \n",
        "   Short videos for quick overview https://freelearning.anaconda.cloud/get-started-with-anaconda/18574 \n",
        "\n",
        "2. open Anaconda prompt to start the setup\n",
        "\n",
        "search for \"Anaconda Prompt\" and run as administrator\n",
        "conda --version\n",
        "        conda 24.11.x (base)\n",
        "conda env list\n",
        "        list of names and location of the environments \n",
        "conda create --name AiLab --> creates a new working environment\n",
        "        Environments in Python are like sandboxes that have different versions of Python and/or packages installed in them. You can create, export, list, remove, and update environments. Anaconda allows easy management for these. \n",
        "conda activate AiLab\n",
        "        switches to the AiLab environment\n",
        "conda install numpy, matplotlib, pytorch, torchvision, pandas, pillow, statsmodels -> install working libraries in the AiLab environment\n",
        "        Here are the links for the packages’ documentations if you need further references:\n",
        "        [Numpy](https://numpy.org/) \n",
        "        [Pytorch](https://pytorch.org/)\n",
        "        [Tourchvision]\n",
        "        [Pandas]\n",
        "        [Matplotlib](https://matplotlib.org/)\n",
        "        [Pillow](https://pillow.readthedocs.io/en/stable/)   \n",
        "        [Statsmodels]     \n",
        "    \n",
        "conda install anaconda-navigator\n",
        "conda install ipykernel\n",
        "conda install spyder-kernels\n",
        "conda install spyder\n",
        "conda install jupiter notebook\n",
        "\n",
        "python -m ipykernel install --user --name=You name\n",
        "        create a jupyter kernel and a name\n",
        "\n",
        "3. Run Jupiter and start working\n",
        "        \n",
        "jupyter-lab\n",
        "        opens the anaconda console and the server starts; don't close this window while working\n"
      ],
      "metadata": {},
      "id": "bd947d7c"
    },
    {
      "cell_type": "markdown",
      "source": [
        "## Task 2 -- Get familiarized with Numpy (create and manipulate arrays)"
      ],
      "metadata": {},
      "id": "injured-telephone"
    },
    {
      "cell_type": "markdown",
      "source": [
        "Steps to get started with NumPy \n",
        "- browser tab with JupyterLab (if already open) \n",
        "or\n",
        "- open anaconda navigator and make sure that your working channel (aiLab) is selected\n",
        "- launch jupyterLab \n",
        "- create a new notebook"
      ],
      "metadata": {},
      "id": "34570def-d743-4a78-84c1-7022af1c664c"
    },
    {
      "cell_type": "markdown",
      "source": [
        "Rank, Axis and Shape"
      ],
      "metadata": {},
      "id": "fa213e89"
    },
    {
      "cell_type": "code",
      "source": [
        "\n",
        "aValues1 = [1,2,3,4]\n",
        "\n",
        "print(aValues1[2]) # rank 1\n",
        "\n",
        "aValues2 = [[1,2],[3,4],[5,6]]\n",
        "\n",
        "print(aValues2[1]) #axis 1\n",
        "print(aValues2[1][1]) # rank 2"
      ],
      "outputs": [
        {
          "output_type": "stream",
          "name": "stdout",
          "text": "3\n[3, 4]\n4\n"
        }
      ],
      "execution_count": null,
      "metadata": {},
      "id": "7ac9448d"
    },
    {
      "cell_type": "code",
      "source": [
        "import numpy as np"
      ],
      "outputs": [],
      "execution_count": 4,
      "metadata": {},
      "id": "protecting-status"
    },
    {
      "cell_type": "code",
      "source": [
        "array1 = np.array([0.2, 0.4, 0.6, 0.8, 0.10, 0.9, 0.7, 0.5, 0.3, 0.1])\n",
        "print(f'array1:{array1} mean:{array1.mean()} sum:{array1.sum()} max:{array1.max()}') #calculates mean,  the sum, the max of the terms\n",
        "\n",
        "array1[1] #the array has rank 1 and value at index 1 equal to 0.4"
      ],
      "outputs": [
        {
          "output_type": "stream",
          "name": "stdout",
          "text": "array1:[0.2 0.4 0.6 0.8 0.1 0.9 0.7 0.5 0.3 0.1] mean:0.45999999999999996 sum:4.6 max:0.9\n"
        },
        {
          "output_type": "execute_result",
          "execution_count": 7,
          "data": {
            "text/plain": "0.4"
          },
          "metadata": {}
        }
      ],
      "execution_count": null,
      "metadata": {
        "scrolled": true
      },
      "id": "pharmaceutical-disaster"
    },
    {
      "cell_type": "markdown",
      "source": [
        "The shape array of an array is very useful (we'll see more of it later when we talk about 2D arrays -- matrices -- and higher-dimensional arrays).\n",
        "Numpy arrays are typed. This means that by default, all the elements will be assumed to be of the same type (e.g., integer, float, String)."
      ],
      "metadata": {},
      "id": "precise-safety"
    },
    {
      "cell_type": "code",
      "source": [
        "print(f'shape:{array1.shape} type:{array1.dtype}')"
      ],
      "outputs": [
        {
          "output_type": "stream",
          "name": "stdout",
          "text": "shape:(10,) type:float64\n"
        }
      ],
      "execution_count": 5,
      "metadata": {},
      "id": "south-smell"
    },
    {
      "cell_type": "markdown",
      "source": [
        "Relevant operations like generating arrays with zero's and one's."
      ],
      "metadata": {},
      "id": "tender-football"
    },
    {
      "cell_type": "code",
      "source": [
        "array2 = np.zeros(10)\n",
        "print(f'array with zeros:{array2}')\n",
        "array3 = np.ones(10)\n",
        "print(f'array with ones:{array3}')"
      ],
      "outputs": [
        {
          "output_type": "stream",
          "name": "stdout",
          "text": "array with zeros:[0. 0. 0. 0. 0. 0. 0. 0. 0. 0.]\narray with ones:[1. 1. 1. 1. 1. 1. 1. 1. 1. 1.]\n"
        }
      ],
      "execution_count": 6,
      "metadata": {},
      "id": "terminal-loading"
    },
    {
      "cell_type": "markdown",
      "source": [
        "Let's first construct a list with evenly-spaced values"
      ],
      "metadata": {},
      "id": "announced-passenger"
    },
    {
      "cell_type": "code",
      "source": [
        "array4 = np.linspace(-5, 5, 10)\n",
        "print(f'array with spaced elements:{array4}')\n",
        "\n",
        "array5 = np.arange(0.1, 1.1, 0.1)\n",
        "print(f'array with increments:{array5}')"
      ],
      "outputs": [],
      "execution_count": null,
      "metadata": {},
      "id": "9233b560"
    },
    {
      "cell_type": "markdown",
      "source": [
        "Numpy arrays have similar functionality as lists.Below, Compute sum of the arrays, slice the array, and iterate through it (one could identically perform the same with a list)."
      ],
      "metadata": {},
      "id": "ac3d4f8c"
    },
    {
      "cell_type": "code",
      "source": [
        "array = array1 + array4 + array5\n",
        "print(f'sum of arrays:{array} Length:{len(array)} shape:{array.shape}')\n",
        "\n",
        "print(f'Take the first 4 elements of the array:{array[:4]}')\n",
        "for element in array[:4]:\n",
        "    print(f'element:{element}')\n",
        "\n",
        "print(f'Take all the elements after the 4th:{array[4:]}')\n",
        "for element in array[4:]:\n",
        "    print(f'element:{element}')"
      ],
      "outputs": [],
      "execution_count": null,
      "metadata": {},
      "id": "brave-buyer"
    },
    {
      "cell_type": "code",
      "source": [
        "arrayOperation = (array4[2] * array5[3])**2\n",
        "print(f'array operation result: {arrayOperation}')"
      ],
      "outputs": [],
      "execution_count": null,
      "metadata": {},
      "id": "b5f20bce"
    },
    {
      "cell_type": "markdown",
      "source": [
        "Randomly select elements from a given array or list"
      ],
      "metadata": {},
      "id": "61e90a2f"
    },
    {
      "cell_type": "code",
      "source": [
        "np.random.choice(array, 5, replace=False)"
      ],
      "outputs": [
        {
          "output_type": "execute_result",
          "execution_count": 31,
          "data": {
            "text/plain": "array([-1.87777778,  5.08888889, -4.7       ,  4.07777778,  2.05555556])"
          },
          "metadata": {}
        }
      ],
      "execution_count": 31,
      "metadata": {},
      "id": "tropical-hypothetical"
    },
    {
      "cell_type": "markdown",
      "source": [
        "Generate random numbers from a uniform distribution in the range [0,1]"
      ],
      "metadata": {},
      "id": "eafaafd5"
    },
    {
      "cell_type": "code",
      "source": [
        "randomNumbers = np.random.random(10) \n",
        "print(f'Ten random numbers between [0,1] {randomNumbers}')\n"
      ],
      "outputs": [
        {
          "output_type": "stream",
          "name": "stdout",
          "text": "Ten random numbers between [0,1] [0.91277458 0.81561531 0.98000396 0.03402072 0.60302783 0.4240298\n 0.01670023 0.85388339 0.06156602 0.15933365]\n"
        }
      ],
      "execution_count": 29,
      "metadata": {},
      "id": "24480f52"
    },
    {
      "cell_type": "markdown",
      "source": [
        "Generates random numbers from a standard normal distribution (Gaussian distribution) with a mean of 0 and a standard deviation of 1."
      ],
      "metadata": {},
      "id": "eb00cb19"
    },
    {
      "cell_type": "code",
      "source": [
        "standardNormalDistribution = np.random.randn(10)\n",
        "print(f'Ten random  numbers of normal distribution are {standardNormalDistribution}')\n",
        "print(\"The sample mean and standard devation are %f and %f, respectively.\" %(np.mean(standardNormalDistribution), np.std(standardNormalDistribution)))"
      ],
      "outputs": [
        {
          "output_type": "stream",
          "name": "stdout",
          "text": "Ten random  numbers of normal distribution are [ 1.02322405  2.50694401  2.207291   -1.47297012  0.3522673  -1.23276031\n  0.27292295  0.47627243  1.02217631 -1.04048474]\nThe sample mean and standard devation are 0.411488 and 1.294329, respectively.\n"
        }
      ],
      "execution_count": null,
      "metadata": {},
      "id": "6c39cddb"
    },
    {
      "cell_type": "markdown",
      "source": [
        "## Task 3 -- Get familiarized with  Matplotlib  (display various graphics)"
      ],
      "metadata": {},
      "id": "intensive-ceremony"
    },
    {
      "cell_type": "markdown",
      "source": [
        "The plot() function is used to draw points (markers) in a diagram. By default, the plot() function draws a line from point to point. The function takes parameters for specifying points in the diagram. Parameter 1 is an array containing the points on the x-axis. Parameter 2 is an array containing the points on the y-axis."
      ],
      "metadata": {},
      "id": "union-collins"
    },
    {
      "cell_type": "code",
      "source": [
        "import matplotlib.pyplot as plt\n",
        "x = [1, 2]\n",
        "y = [1, 5]\n",
        "plt.plot(x, y)\n",
        "plt.show()"
      ],
      "outputs": [],
      "execution_count": null,
      "metadata": {},
      "id": "interracial-prince"
    },
    {
      "cell_type": "markdown",
      "source": [
        "*Other example where we modify the line style and the color:*"
      ],
      "metadata": {},
      "id": "hawaiian-danish"
    },
    {
      "cell_type": "code",
      "source": [
        "import matplotlib.pyplot as plt\n",
        "import numpy as np\n",
        "x = np.random.randint(low=1, high=20, size=30)\n",
        "plt.title(\"Plot of 30 random numbers having min 1 and max 20\")\n",
        "plt.plot(x, color = 'blue', linewidth=3, linestyle='dashed')\n",
        "plt.show()"
      ],
      "outputs": [
        {
          "output_type": "display_data",
          "data": {
            "image/png": "[encoded data removed]",
            "text/plain": "<Figure size 640x480 with 1 Axes>"
          },
          "metadata": {}
        }
      ],
      "execution_count": 9,
      "metadata": {},
      "id": "central-maine"
    },
    {
      "cell_type": "markdown",
      "source": [
        "Subploting of sine and cosine waves"
      ],
      "metadata": {},
      "id": "1bba9e26"
    },
    {
      "cell_type": "code",
      "source": [
        "import matplotlib.pyplot as plt\n",
        "import numpy as np\n",
        "\n",
        "# Sample data\n",
        "x = np.linspace(0, 10, 100)\n",
        "y = np.sin(x)\n",
        "y2 = np.cos(x)\n",
        "\n",
        "# Create a 1x2 grid of plots\n",
        "plt.subplot(1, 2, 1)  # 1 row, 2 columns, first plot\n",
        "plt.plot(x, y, label=\"sin(x)\")\n",
        "plt.title(\"Sine Wave\")\n",
        "plt.xlabel(\"x\")\n",
        "plt.ylabel(\"sin(x)\")\n",
        "plt.legend()\n",
        "\n",
        "plt.subplot(1, 2, 2)  # 1 row, 2 columns, second plot\n",
        "plt.plot(x, y2, label=\"cos(x)\", color='r')\n",
        "plt.title(\"Cosine Wave\")\n",
        "plt.xlabel(\"x\")\n",
        "plt.ylabel(\"cos(x)\")\n",
        "plt.legend()\n",
        "\n",
        "plt.tight_layout()  # Adjust spacing between plots\n",
        "plt.show()\n"
      ],
      "outputs": [
        {
          "output_type": "display_data",
          "data": {
            "image/png": "[encoded data removed]",
            "text/plain": "<Figure size 640x480 with 2 Axes>"
          },
          "metadata": {}
        }
      ],
      "execution_count": 11,
      "metadata": {},
      "id": "3e853f12"
    },
    {
      "cell_type": "markdown",
      "source": [
        "PLoting piechart having 4 areas in 4 colors"
      ],
      "metadata": {},
      "id": "b5835f44"
    },
    {
      "cell_type": "code",
      "source": [
        "import matplotlib.pyplot as plt\n",
        "\n",
        "# Data for the pie chart\n",
        "labels = ['Category A', 'Category B', 'Category C', 'Category D']\n",
        "sizes = [30, 25, 20, 25]  # Percentages\n",
        "colors = ['#ff9999', '#66b3ff', '#99ff99', '#ffcc99']  # Custom colors\n",
        "explode = (0.1, 0, 0, 0)  # Explode the first slice (Category A)\n",
        "\n",
        "# Create the pie chart\n",
        "plt.figure(figsize=(8, 6))\n",
        "plt.pie(\n",
        "    sizes,\n",
        "    labels=labels,\n",
        "    colors=colors,\n",
        "    explode=explode,\n",
        "    autopct='%1.1f%%',  # Show percentages with 1 decimal place\n",
        "    startangle=90,      # Rotate the start of the pie chart\n",
        "    shadow=True         # Add a shadow effect\n",
        ")\n",
        "\n",
        "plt.title(\"Pie Chart Example\")\n",
        "plt.show()"
      ],
      "outputs": [],
      "execution_count": null,
      "metadata": {},
      "id": "b1cefc4b"
    },
    {
      "cell_type": "markdown",
      "source": [
        "Plotting two sample signals"
      ],
      "metadata": {},
      "id": "025d8a98"
    },
    {
      "cell_type": "code",
      "source": [
        "import matplotlib.pyplot as plt\n",
        "import numpy as np\n",
        "\n",
        "np.random.seed(44)\n",
        "\n",
        "t = np.arange(0, 30, 0.01)\n",
        "nse1 = np.random.randn(len(t))                 # white noise 1\n",
        "nse2 = np.random.randn(len(t))                 # white noise 2\n",
        "\n",
        "# Two signals with a coherent part at 10 Hz and a random part\n",
        "s1 = np.sin(2 * np.pi * 10 * t) + nse1\n",
        "s2 = np.sin(2 * np.pi * 10 * t) + nse2\n",
        "\n",
        "fig, axs = plt.subplots(2, 1, layout='constrained')\n",
        "axs[0].plot(t, s1, t, s2)\n",
        "axs[0].set_xlim(0, 2)\n",
        "axs[0].set_xlabel('Time (s)')\n",
        "axs[0].set_ylabel('s1 and s2')\n",
        "axs[0].grid(True)\n",
        "\n",
        "cxy, f = axs[1].cohere(s1, s2, NFFT=256, Fs=1. / 0.01)\n",
        "axs[1].set_ylabel('Coherence')\n",
        "\n",
        "plt.show()"
      ],
      "outputs": [],
      "execution_count": null,
      "metadata": {},
      "id": "b815b13d"
    },
    {
      "cell_type": "markdown",
      "source": [
        "## Task 4 -- Get familiarized with Pytorch tensors (creation and manipulation)"
      ],
      "metadata": {},
      "id": "norman-speech"
    },
    {
      "cell_type": "markdown",
      "source": [],
      "metadata": {},
      "id": "264a0ab5"
    },
    {
      "cell_type": "code",
      "source": [
        "import torch"
      ],
      "outputs": [],
      "execution_count": 12,
      "metadata": {},
      "id": "colored-civilization"
    },
    {
      "cell_type": "markdown",
      "source": [
        "Creating tensors"
      ],
      "metadata": {},
      "id": "40f49b06"
    },
    {
      "cell_type": "code",
      "source": [
        "a = torch.tensor([1, 2, 3, 4])  # 1D tensor\n",
        "b = torch.tensor([[1, 2], [3, 4]])  # 2D tensor\n",
        "a,b"
      ],
      "outputs": [
        {
          "output_type": "execute_result",
          "execution_count": 22,
          "data": {
            "text/plain": "(tensor([1, 2, 3, 4]),\n tensor([[1, 2],\n         [3, 4]]))"
          },
          "metadata": {}
        }
      ],
      "execution_count": 22,
      "metadata": {},
      "id": "dd35ae51"
    },
    {
      "cell_type": "code",
      "source": [
        "import numpy as np\n",
        "np_array = np.array([1, 2, 3, 4])\n",
        "tensor_from_np = torch.from_numpy(np_array)  \n",
        "\n",
        "np_array, tensor_from_np"
      ],
      "outputs": [
        {
          "output_type": "execute_result",
          "execution_count": 21,
          "data": {
            "text/plain": "(array([1, 2, 3, 4]), tensor([1, 2, 3, 4], dtype=torch.int32))"
          },
          "metadata": {}
        }
      ],
      "execution_count": 21,
      "metadata": {},
      "id": "2f138597"
    },
    {
      "cell_type": "markdown",
      "source": [
        "Tensor operations"
      ],
      "metadata": {},
      "id": "d0c3846f"
    },
    {
      "cell_type": "code",
      "source": [
        "x = torch.tensor([1, 2, 3])\n",
        "y = torch.tensor([4, 5, 6])\n",
        "\n",
        "# Element-wise operations\n",
        "sum_tensor = x + y   # [5, 7, 9]\n",
        "diff_tensor = x - y  # [-3, -3, -3]\n",
        "prod_tensor = x * y  # [4, 10, 18]\n",
        "div_tensor = x / y   # [0.25, 0.4, 0.5]\n",
        "\n",
        "sum_tensor, diff_tensor, prod_tensor, div_tensor"
      ],
      "outputs": [
        {
          "output_type": "execute_result",
          "execution_count": 18,
          "data": {
            "text/plain": "(tensor([5, 7, 9]),\n tensor([-3, -3, -3]),\n tensor([ 4, 10, 18]),\n tensor([0.2500, 0.4000, 0.5000]))"
          },
          "metadata": {}
        }
      ],
      "execution_count": 18,
      "metadata": {},
      "id": "2f8453fa"
    },
    {
      "cell_type": "markdown",
      "source": [
        "Matrix multiplication"
      ],
      "metadata": {},
      "id": "4ff5a908"
    },
    {
      "cell_type": "code",
      "source": [
        "x = torch.tensor([[1, 2], [3, 4]])\n",
        "y = torch.tensor([[5, 6], [7, 8]])\n",
        "result = torch.matmul(x, y)  # Matrix multiplication"
      ],
      "outputs": [],
      "execution_count": null,
      "metadata": {},
      "id": "85e295e4"
    },
    {
      "cell_type": "markdown",
      "source": [
        "We will touch topics like: rank, axis, shape, type, reshaping."
      ],
      "metadata": {},
      "id": "54f95801"
    },
    {
      "cell_type": "code",
      "source": [
        "\n",
        "aValue = [1,2,3,4]\n",
        "aTensor = torch.tensor(aValue)\n",
        "\n",
        "print(aTensor[2]) # rank 1\n",
        "\n",
        "aaValue = [[1,2],[3,4],[5,6]]\n",
        "aaTensor = torch.tensor(aaValue)\n",
        "print(f'tensor: {aaTensor} [1][1]: {aaTensor[1][1]}') # rank 2\n",
        "aaFloatTensor = torch.Tensor(aaValue)\n",
        "print(f'tensor: {aaFloatTensor}') # rank 2\n",
        "\n",
        "print(f'Axis 1: {aaTensor[1]}') #axis 1\n",
        "print(f'Axis 2: {aaTensor[1][1]}') #axis 2\n",
        "\n",
        "print(f'type:{type(aaTensor)}')\n",
        "print(f'dtype: {aaTensor.dtype}')\n",
        "print(f'shape: {aaTensor.shape}')\n",
        "\n",
        "print(f'one row with all elements in a single row: {torch.reshape(aaTensor, (1,-1))}') # Shape (1,6)\n",
        "print(f'two row, any columns: {torch.reshape(aaTensor, (2,-1))}')\n",
        "print(f'1D tensor with 6 elements: {torch.reshape(aaTensor, (6,))}')  # Shape (6,)"
      ],
      "outputs": [
        {
          "output_type": "stream",
          "name": "stdout",
          "text": "tensor(3)\ntensor: tensor([[1, 2],\n        [3, 4],\n        [5, 6]]) [1][1]: 4\ntensor: tensor([[1., 2.],\n        [3., 4.],\n        [5., 6.]])\nAxis 1: tensor([3, 4])\nAxis 2: 4\ntype:<class 'torch.Tensor'>\ndtype: torch.int64\nshape: torch.Size([3, 2])\none row with all elements in a single row: tensor([[1, 2, 3, 4, 5, 6]])\ntwo row, any columns: tensor([[1, 2, 3],\n        [4, 5, 6]])\n1D tensor with 6 elements: tensor([1, 2, 3, 4, 5, 6])\n"
        }
      ],
      "execution_count": 51,
      "metadata": {},
      "id": "03997777"
    },
    {
      "cell_type": "markdown",
      "source": [
        " ***Creation Examples:***"
      ],
      "metadata": {},
      "id": "mineral-assembly"
    },
    {
      "cell_type": "code",
      "source": [
        "import torch\n",
        "emptyList = torch.empty(3, 4) #3 rows 4 columns\n",
        "print(f'List={emptyList} type= {type(emptyList)}')"
      ],
      "outputs": [
        {
          "output_type": "stream",
          "name": "stdout",
          "text": "List=tensor([[0., 0., 0., 0.],\n        [0., 0., 0., 0.],\n        [0., 0., 0., 0.]]) type= <class 'torch.Tensor'>\n"
        }
      ],
      "execution_count": 17,
      "metadata": {},
      "id": "adolescent-adelaide"
    },
    {
      "cell_type": "code",
      "source": [
        "zeros = torch.zeros(2, 3)\n",
        "print(zeros)"
      ],
      "outputs": [
        {
          "output_type": "stream",
          "name": "stdout",
          "text": "tensor([[0., 0., 0.],\n        [0., 0., 0.]])\n"
        }
      ],
      "execution_count": 18,
      "metadata": {},
      "id": "surface-harvest"
    },
    {
      "cell_type": "code",
      "source": [
        "ones = torch.ones(2, 3)\n",
        "print(ones)"
      ],
      "outputs": [
        {
          "output_type": "stream",
          "name": "stdout",
          "text": "tensor([[1., 1., 1.],\n        [1., 1., 1.]])\n"
        }
      ],
      "execution_count": 19,
      "metadata": {},
      "id": "forty-aviation"
    },
    {
      "cell_type": "markdown",
      "source": [
        "Observe the last example with the seed specified. Run the following example and observe the “random” values generated"
      ],
      "metadata": {},
      "id": "2d2da86b"
    },
    {
      "cell_type": "code",
      "source": [
        "torch.manual_seed(1)\n",
        "print(f'seed 1')\n",
        "random1 = torch.rand(2, 3)\n",
        "print(random1)\n",
        "random2 = torch.rand(2, 3)\n",
        "print(random2)\n",
        "random3 = torch.rand(2, 3)\n",
        "print(random3)\n",
        "\n",
        "print(f'seed 1')\n",
        "torch.manual_seed(1)\n",
        "random4 = torch.rand(2, 3)\n",
        "print(random4)\n",
        "random5 = torch.rand(2, 3)\n",
        "print(random5)\n",
        "random6 = torch.rand(2, 3)\n",
        "print(random6)\n",
        "\n",
        "print(f'seed 1')\n",
        "torch.manual_seed(1)\n",
        "random7 = torch.rand(2, 3)\n",
        "print(random7)"
      ],
      "outputs": [
        {
          "output_type": "stream",
          "name": "stdout",
          "text": "seed 1\ntensor([[0.7576, 0.2793, 0.4031],\n        [0.7347, 0.0293, 0.7999]])\ntensor([[0.3971, 0.7544, 0.5695],\n        [0.4388, 0.6387, 0.5247]])\ntensor([[0.6826, 0.3051, 0.4635],\n        [0.4550, 0.5725, 0.4980]])\nseed 1\ntensor([[0.7576, 0.2793, 0.4031],\n        [0.7347, 0.0293, 0.7999]])\ntensor([[0.3971, 0.7544, 0.5695],\n        [0.4388, 0.6387, 0.5247]])\ntensor([[0.6826, 0.3051, 0.4635],\n        [0.4550, 0.5725, 0.4980]])\nseed 1\ntensor([[0.7576, 0.2793, 0.4031],\n        [0.7347, 0.0293, 0.7999]])\n"
        }
      ],
      "execution_count": 20,
      "metadata": {},
      "id": "consecutive-programming"
    },
    {
      "cell_type": "markdown",
      "source": [
        "***Tensor Shapes***\n",
        "\n",
        "On performing operations on two or more tensors, they will need to be of the same shape - that is, having the same number of dimensions and the same number of cells in each dimension. For that, we have the `torch.*_like()` methods:"
      ],
      "metadata": {},
      "id": "whole-immigration"
    },
    {
      "cell_type": "code",
      "source": [
        "import torch\n",
        "\n",
        "x = torch.empty(2, 2, 3)\n",
        "print(x.shape)\n",
        "print(f'Empty {x}')\n",
        "\n",
        "empty_like_x = torch.empty_like(x)\n",
        "print(empty_like_x.shape)\n",
        "print(f'empty_like {empty_like_x}')\n",
        "\n",
        "zeros_like_x = torch.zeros_like(x)\n",
        "print(zeros_like_x.shape)\n",
        "print(f'zeros_like {zeros_like_x}')\n",
        "\n",
        "ones_like_x = torch.ones_like(x)\n",
        "print(ones_like_x.shape)\n",
        "print(f'ones_like {x}')\n",
        "\n",
        "rand_like_x = torch.rand_like(x)\n",
        "print(rand_like_x.shape)\n",
        "print(f'rand_like {x}')"
      ],
      "outputs": [
        {
          "output_type": "stream",
          "name": "stdout",
          "text": "torch.Size([2, 2, 3])\nEmpty tensor([[[0., 0., 0.],\n         [0., 0., 0.]],\n\n        [[0., 0., 0.],\n         [0., 0., 0.]]])\ntorch.Size([2, 2, 3])\nempty_like tensor([[[-3.8236e+30,  7.4269e-43,  0.0000e+00],\n         [ 0.0000e+00,  0.0000e+00,  0.0000e+00]],\n\n        [[ 0.0000e+00,  0.0000e+00,  0.0000e+00],\n         [ 0.0000e+00,  0.0000e+00,  0.0000e+00]]])\ntorch.Size([2, 2, 3])\nzeros_like tensor([[[0., 0., 0.],\n         [0., 0., 0.]],\n\n        [[0., 0., 0.],\n         [0., 0., 0.]]])\ntorch.Size([2, 2, 3])\nones_like tensor([[[0., 0., 0.],\n         [0., 0., 0.]],\n\n        [[0., 0., 0.],\n         [0., 0., 0.]]])\ntorch.Size([2, 2, 3])\nrand_like tensor([[[0., 0., 0.],\n         [0., 0., 0.]],\n\n        [[0., 0., 0.],\n         [0., 0., 0.]]])\n"
        }
      ],
      "execution_count": 21,
      "metadata": {},
      "id": "nonprofit-fleece"
    },
    {
      "cell_type": "markdown",
      "source": [
        "***Moving to GPU***\n",
        "\n",
        "   First, we should check whether a GPU is available, with the is_available() method.\n",
        "\n",
        "   **If you do not have a CUDA-compatible GPU and CUDA drivers installed, the executable cells in this section will not execute any GPU-related code.**"
      ],
      "metadata": {},
      "id": "detected-committee"
    },
    {
      "cell_type": "code",
      "source": [
        "if torch.cuda.is_available():\n",
        "    print('We have a GPU!')\n",
        "else:\n",
        "    print('Sorry, CPU only.')"
      ],
      "outputs": [
        {
          "output_type": "stream",
          "name": "stdout",
          "text": "Sorry, CPU only.\n"
        }
      ],
      "execution_count": 22,
      "metadata": {},
      "id": "armed-opposition"
    },
    {
      "cell_type": "markdown",
      "source": [
        "A common way to handle this situation is this: "
      ],
      "metadata": {},
      "id": "expressed-minority"
    },
    {
      "cell_type": "code",
      "source": [
        "if torch.cuda.is_available():\n",
        "    my_device = torch.device('cuda')\n",
        "else:\n",
        "    my_device = torch.device('cpu')\n",
        "print('Device: {}'.format(my_device))\n",
        "\n",
        "x = torch.rand(2, 2, device=my_device)\n",
        "print(x)"
      ],
      "outputs": [
        {
          "output_type": "stream",
          "name": "stdout",
          "text": "Device: cpu\ntensor([[0.9371, 0.6556],\n        [0.3138, 0.1980]])\n"
        }
      ],
      "execution_count": 23,
      "metadata": {},
      "id": "healthy-assembly"
    },
    {
      "cell_type": "markdown",
      "source": [
        "## Task 5 -- Get familiarized with  PIL/PILLOW (python image library)"
      ],
      "metadata": {},
      "id": "blessed-processing"
    },
    {
      "cell_type": "markdown",
      "source": [
        "A. Display an image with pillow (the image must be in the same folder for these examples to run, and we considered the name of the image file `opera.jpg`):"
      ],
      "metadata": {},
      "id": "unauthorized-institution"
    },
    {
      "cell_type": "code",
      "source": [
        "from PIL import Image\n",
        "# Correct file path\n",
        "image_path = r'C:\\_Topics\\golden-retriever-tongue-out.jpg'  # Option 1: Use a raw string\n",
        "\n",
        "# Load the image\n",
        "image = Image.open(image_path)\n",
        "\n",
        "# Summarize some details about the image\n",
        "print(\"Format:\", image.format)\n",
        "print(\"Mode:\", image.mode)\n",
        "print(\"Size:\", image.size)\n",
        "\n",
        "# Show the image\n",
        "image.show()"
      ],
      "outputs": [],
      "execution_count": null,
      "metadata": {},
      "id": "hearing-ecuador"
    },
    {
      "cell_type": "markdown",
      "source": [
        "B. Convert the image to a numpy array:"
      ],
      "metadata": {},
      "id": "broken-package"
    },
    {
      "cell_type": "code",
      "source": [
        "# load and display an image with Matplotlib\n",
        "from matplotlib import image\n",
        "from matplotlib import pyplot\n",
        "# load image as pixel array\n",
        "data = image.imread('opera.jpg')\n",
        "# summarize shape of the pixel array\n",
        "print(data.dtype)\n",
        "print(data.shape)\n",
        "# display the array of pixels as an image\n",
        "pyplot.imshow(data)\n",
        "pyplot.show()"
      ],
      "outputs": [],
      "execution_count": null,
      "metadata": {},
      "id": "abstract-proportion"
    },
    {
      "cell_type": "markdown",
      "source": [
        "C. Resize an image to a specific dimension:"
      ],
      "metadata": {},
      "id": "respective-relief"
    },
    {
      "cell_type": "code",
      "source": [
        "# create a thumbnail of an image\n",
        "from PIL import Image\n",
        "# load the image\n",
        "image = Image.open('opera.jpg')\n",
        "# report the size of the image\n",
        "print(image.size)\n",
        "# create a thumbnail and preserve aspect ratio\n",
        "image.thumbnail((100,100))\n",
        "# report the size of the thumbnail\n",
        "print(image.size)"
      ],
      "outputs": [],
      "execution_count": null,
      "metadata": {
        "scrolled": true
      },
      "id": "floral-cooler"
    },
    {
      "cell_type": "markdown",
      "source": [
        "D. Other operations can be found at the address [How to Load and Manipulate Images for Deep Learning in Python With PIL/Pillow](https://machinelearningmastery.com/how-to-load-and-manipulate-images-for-deep-learning-in-python-with-pil-pillow/) \n"
      ],
      "metadata": {},
      "id": "insured-organic"
    },
    {
      "cell_type": "markdown",
      "source": [
        "## Task 6 -- An application: Simulate an unfair probability spinner"
      ],
      "metadata": {},
      "id": "armed-biotechnology"
    },
    {
      "cell_type": "markdown",
      "source": [
        "Conside an unfair probability spinner with $n$ slots. Each slot has a probabilty $P_n \\in [0,1]$ and $\\sum_{i=0}^{n-1}P_i = 1$. \n",
        "\n",
        "Write a function that random generate an index $i$ with the probability $P_i$ from the set $\\{0, 1, ..., n\\}$.  "
      ],
      "metadata": {},
      "id": "quick-christian"
    },
    {
      "cell_type": "code",
      "source": [
        "def spinner(probabilityDistribution):\n",
        "    pass"
      ],
      "outputs": [],
      "execution_count": null,
      "metadata": {},
      "id": "together-ownership"
    },
    {
      "attachments": {
        "chart.png": {
          "image/png": "[encoded data removed]"
        }
      },
      "cell_type": "markdown",
      "source": [
        "The same problem but instead of a distribution of probability the input is a list of natural numbers that holds how many degrees has the center angle $\\theta_i$ corespondent to index $i$.\n",
        "\n",
        "### Example:\n",
        "\n",
        "Consider we have a wheel with 4 slots as in Figure \n",
        "\n",
        "![chart.png](attachment:chart.png)\n",
        "\n",
        "When we spin the wheel we get for example blue index with $12.86\\%$ chances. "
      ],
      "metadata": {},
      "id": "3be14413"
    },
    {
      "cell_type": "markdown",
      "source": [
        "## Task 7 -- Determine some outcomes using Monte Carlo Simulations"
      ],
      "metadata": {},
      "id": "c0da82ad"
    },
    {
      "attachments": {
        "MCSIM.jpg": {
          "image/jpeg": "[encoded data removed]"
        }
      },
      "cell_type": "markdown",
      "source": [
        "Consider a large pipe with a radius $R = 30 cm$ that has the opening pointing straight up, as in the figure. Around this pipe is a rectangular wall with an edge $l = 1m$. Balls of radius $r = 1 cm$ fall down uniformly from above inside the square yard. Compute, using a Monte Carlo simulation, the probability that a ball falls inside the pipe. Compare the results with the mathematically deduced probability.\n",
        "\n",
        "![MCSIM.jpg](attachment:MCSIM.jpg)"
      ],
      "metadata": {},
      "id": "5d27f3f8"
    }
  ],
  "metadata": {
    "kernel_info": {
      "name": "python"
    },
    "kernelspec": {
      "display_name": "base",
      "language": "python",
      "name": "python3"
    },
    "language_info": {
      "codemirror_mode": {
        "name": "ipython",
        "version": 3
      },
      "file_extension": ".py",
      "mimetype": "text/x-python",
      "name": "python",
      "nbconvert_exporter": "python",
      "pygments_lexer": "ipython3",
      "version": "3.12.7"
    },
    "nteract": {
      "version": "nteract-front-end@1.0.0"
    }
  },
  "nbformat": 4,
  "nbformat_minor": 5
}