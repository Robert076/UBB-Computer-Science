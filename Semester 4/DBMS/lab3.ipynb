{
    "metadata": {
        "kernelspec": {
            "name": "SQL",
            "display_name": "SQL",
            "language": "sql"
        },
        "language_info": {
            "name": "sql",
            "version": ""
        }
    },
    "nbformat_minor": 2,
    "nbformat": 4,
    "cells": [
        {
            "cell_type": "code",
            "source": [
                "CREATE DATABASE Supplements;"
            ],
            "metadata": {
                "language": "sql",
                "azdata_cell_guid": "a13de5c5-26d0-44ee-b346-71e9919288b9"
            },
            "outputs": [],
            "execution_count": null
        },
        {
            "cell_type": "code",
            "source": [
                "USE Supplements;"
            ],
            "metadata": {
                "language": "sql",
                "azdata_cell_guid": "c27dfe51-ceb5-4164-985c-d4cfb92434f3"
            },
            "outputs": [
                {
                    "output_type": "display_data",
                    "data": {
                        "text/html": "Commands completed successfully."
                    },
                    "metadata": {}
                },
                {
                    "output_type": "display_data",
                    "data": {
                        "text/html": "Total execution time: 00:00:00.003"
                    },
                    "metadata": {}
                }
            ],
            "execution_count": 4
        },
        {
            "cell_type": "code",
            "source": [
                "CREATE TABLE Customers(\n",
                "    CustomerID int primary key identity(1, 1),\n",
                "    CustomerName varchar(255) not null,\n",
                "    CustomerEmail varchar(255) not null,\n",
                "    CustomerPhone varchar(255) not null \n",
                ");"
            ],
            "metadata": {
                "azdata_cell_guid": "aa911952-0bb0-4a90-bebc-fc43e2b252f0",
                "language": "sql"
            },
            "outputs": [],
            "execution_count": null
        },
        {
            "cell_type": "code",
            "source": [
                "CREATE TABLE Products(\n",
                "    ProductID int primary key identity(1,1),\n",
                "    ProductName varchar(255) not null\n",
                ");"
            ],
            "metadata": {
                "language": "sql",
                "azdata_cell_guid": "00fbfff4-7c4d-4fe4-a569-946f9c03008c"
            },
            "outputs": [
                {
                    "output_type": "display_data",
                    "data": {
                        "text/html": "Commands completed successfully."
                    },
                    "metadata": {}
                },
                {
                    "output_type": "display_data",
                    "data": {
                        "text/html": "Total execution time: 00:00:00.021"
                    },
                    "metadata": {}
                }
            ],
            "execution_count": 6
        },
        {
            "cell_type": "code",
            "source": [
                "CREATE TABLE CustomerProducts(\n",
                "    CustomerID int,\n",
                "    ProductID int,\n",
                "    PRIMARY KEY (CustomerID, ProductID),\n",
                "    FOREIGN KEY (CustomerID) REFERENCES Customers(CustomerID),\n",
                "    FOREIGN KEY (ProductID) REFERENCES Products(ProductID)\n",
                ");"
            ],
            "metadata": {
                "language": "sql",
                "azdata_cell_guid": "f7b1eeeb-74d7-4852-8101-e6d978f213fe"
            },
            "outputs": [
                {
                    "output_type": "display_data",
                    "data": {
                        "text/html": "Commands completed successfully."
                    },
                    "metadata": {}
                },
                {
                    "output_type": "display_data",
                    "data": {
                        "text/html": "Total execution time: 00:00:00.036"
                    },
                    "metadata": {}
                }
            ],
            "execution_count": 7
        },
        {
            "cell_type": "code",
            "source": [
                "CREATE TYPE dbo.StringList AS TABLE (\n",
                "    Value varchar(255)\n",
                ");\n",
                ""
            ],
            "metadata": {
                "language": "sql",
                "azdata_cell_guid": "94127e3b-cb4a-4369-bd5d-c8a85b9e710d"
            },
            "outputs": [
                {
                    "output_type": "display_data",
                    "data": {
                        "text/html": "Commands completed successfully."
                    },
                    "metadata": {}
                },
                {
                    "output_type": "display_data",
                    "data": {
                        "text/html": "Total execution time: 00:00:00.042"
                    },
                    "metadata": {}
                }
            ],
            "execution_count": 10
        },
        {
            "cell_type": "markdown",
            "source": [
                "# create a stored procedure that inserts data in tables that are in a m:n relationship; if one insert fails, all the operations performed by the procedure must be rolled back (grade 3);\n",
                ""
            ],
            "metadata": {
                "language": "sql",
                "azdata_cell_guid": "a601366d-3a17-4422-98b2-0a46dccd9699"
            },
            "attachments": {}
        },
        {
            "cell_type": "code",
            "source": [
                "CREATE PROCEDURE InsertCustomerWithProducts\n",
                "    @CustomerName varchar(255),\n",
                "    @CustomerEmail varchar(255),\n",
                "    @CustomerPhone varchar(255),\n",
                "    @ProductNames dbo.StringList READONLY -- TVP (Table-Valued Parameter)\n",
                "AS\n",
                "BEGIN\n",
                "    SET NOCOUNT ON;\n",
                "    BEGIN TRY\n",
                "        BEGIN TRANSACTION;\n",
                "\n",
                "        -- Insert into Customers\n",
                "        INSERT INTO Customers (CustomerName, CustomerEmail, CustomerPhone)\n",
                "        VALUES (@CustomerName, @CustomerEmail, @CustomerPhone);\n",
                "\n",
                "        DECLARE @CustomerID int = SCOPE_IDENTITY();\n",
                "\n",
                "        DECLARE @ProductID int;\n",
                "\n",
                "        DECLARE cur CURSOR FOR SELECT Value FROM @ProductNames;\n",
                "        OPEN cur;\n",
                "\n",
                "        DECLARE @ProdName varchar(255);\n",
                "        FETCH NEXT FROM cur INTO @ProdName;\n",
                "\n",
                "        WHILE @@FETCH_STATUS = 0\n",
                "        BEGIN\n",
                "            -- Insert product if it doesn't exist, get ID\n",
                "            IF NOT EXISTS (SELECT 1 FROM Products WHERE ProductName = @ProdName)\n",
                "            BEGIN\n",
                "                INSERT INTO Products (ProductName) VALUES (@ProdName);\n",
                "            END\n",
                "\n",
                "            SELECT @ProductID = ProductID FROM Products WHERE ProductName = @ProdName;\n",
                "\n",
                "            -- Insert into junction table\n",
                "            INSERT INTO CustomerProducts (CustomerID, ProductID)\n",
                "            VALUES (@CustomerID, @ProductID);\n",
                "\n",
                "            FETCH NEXT FROM cur INTO @ProdName;\n",
                "        END\n",
                "        CLOSE cur;\n",
                "        DEALLOCATE cur;\n",
                "\n",
                "        COMMIT;\n",
                "    END TRY\n",
                "    BEGIN CATCH\n",
                "        ROLLBACK;\n",
                "        THROW;\n",
                "    END CATCH\n",
                "END;\n",
                ""
            ],
            "metadata": {
                "language": "sql",
                "azdata_cell_guid": "9dcc2117-fd09-46dc-aa08-0b5911fcddb8"
            },
            "outputs": [
                {
                    "output_type": "display_data",
                    "data": {
                        "text/html": "Commands completed successfully."
                    },
                    "metadata": {}
                },
                {
                    "output_type": "display_data",
                    "data": {
                        "text/html": "Total execution time: 00:00:00.052"
                    },
                    "metadata": {}
                }
            ],
            "execution_count": 11
        },
        {
            "cell_type": "code",
            "source": [
                "DECLARE @Products dbo.StringList;\n",
                "INSERT INTO @Products VALUES ('Laptop'), ('Smartphone');\n",
                "\n",
                "EXEC InsertCustomerWithProducts\n",
                "    @CustomerName = 'Alice Johnson',\n",
                "    @CustomerEmail = 'alice@example.com',\n",
                "    @CustomerPhone = '1234567890',\n",
                "    @ProductNames = @Products;\n",
                ""
            ],
            "metadata": {
                "azdata_cell_guid": "6d890dc8-6088-4ba9-8665-ef5561037399",
                "language": "sql"
            },
            "outputs": [
                {
                    "output_type": "display_data",
                    "data": {
                        "text/html": "(2 rows affected)"
                    },
                    "metadata": {}
                },
                {
                    "output_type": "display_data",
                    "data": {
                        "text/html": "Total execution time: 00:00:00.113"
                    },
                    "metadata": {}
                }
            ],
            "execution_count": 12
        },
        {
            "cell_type": "code",
            "source": [
                "SELECT * FROM Customers\n",
                "SELECT * FROM Products"
            ],
            "metadata": {
                "language": "sql",
                "azdata_cell_guid": "864a57fe-a546-436c-aeff-2b2e9f73b794"
            },
            "outputs": [
                {
                    "output_type": "display_data",
                    "data": {
                        "text/html": "(1 row affected)"
                    },
                    "metadata": {}
                },
                {
                    "output_type": "display_data",
                    "data": {
                        "text/html": "(2 rows affected)"
                    },
                    "metadata": {}
                },
                {
                    "output_type": "display_data",
                    "data": {
                        "text/html": "Total execution time: 00:00:00.053"
                    },
                    "metadata": {}
                },
                {
                    "output_type": "execute_result",
                    "execution_count": 13,
                    "data": {
                        "application/vnd.dataresource+json": {
                            "schema": {
                                "fields": [
                                    {
                                        "name": "CustomerID"
                                    },
                                    {
                                        "name": "CustomerName"
                                    },
                                    {
                                        "name": "CustomerEmail"
                                    },
                                    {
                                        "name": "CustomerPhone"
                                    }
                                ]
                            },
                            "data": [
                                {
                                    "CustomerID": "1",
                                    "CustomerName": "Alice Johnson",
                                    "CustomerEmail": "alice@example.com",
                                    "CustomerPhone": "1234567890"
                                }
                            ]
                        },
                        "text/html": "<table><tr><th>CustomerID</th><th>CustomerName</th><th>CustomerEmail</th><th>CustomerPhone</th></tr><tr><td>1</td><td>Alice Johnson</td><td>alice@example.com</td><td>1234567890</td></tr></table>"
                    },
                    "metadata": {}
                },
                {
                    "output_type": "execute_result",
                    "execution_count": 13,
                    "data": {
                        "application/vnd.dataresource+json": {
                            "schema": {
                                "fields": [
                                    {
                                        "name": "ProductID"
                                    },
                                    {
                                        "name": "ProductName"
                                    }
                                ]
                            },
                            "data": [
                                {
                                    "ProductID": "1",
                                    "ProductName": "Laptop"
                                },
                                {
                                    "ProductID": "2",
                                    "ProductName": "Smartphone"
                                }
                            ]
                        },
                        "text/html": "<table><tr><th>ProductID</th><th>ProductName</th></tr><tr><td>1</td><td>Laptop</td></tr><tr><td>2</td><td>Smartphone</td></tr></table>"
                    },
                    "metadata": {}
                }
            ],
            "execution_count": 13
        },
        {
            "cell_type": "markdown",
            "source": [
                "# create a stored procedure that inserts data in tables that are in a m:n relationship; if an insert fails, try to recover as much as possible from the entire operation: for example, if the user wants to add a book and its authors, succeeds creating the authors, but fails with the book, the authors should remain in the database (grade 5);"
            ],
            "metadata": {
                "language": "sql",
                "azdata_cell_guid": "37e31997-69bd-4422-b0a6-5d0bb1fde52f"
            },
            "attachments": {}
        },
        {
            "cell_type": "code",
            "source": [
                "CREATE TABLE Services (\n",
                "    ServiceID INT PRIMARY KEY IDENTITY(1,1),\n",
                "    ServiceName VARCHAR(255) NOT NULL\n",
                ");\n",
                "\n",
                "CREATE TABLE CustomerServices (\n",
                "    CustomerID INT,\n",
                "    ServiceID INT,\n",
                "    PRIMARY KEY (CustomerID, ServiceID),\n",
                "    FOREIGN KEY (CustomerID) REFERENCES Customers(CustomerID),\n",
                "    FOREIGN KEY (ServiceID) REFERENCES Services(ServiceID)\n",
                ");\n",
                ""
            ],
            "metadata": {
                "language": "sql",
                "azdata_cell_guid": "04f30d15-4b2e-4755-9e08-67f742775d1e"
            },
            "outputs": [
                {
                    "output_type": "display_data",
                    "data": {
                        "text/html": "Commands completed successfully."
                    },
                    "metadata": {}
                },
                {
                    "output_type": "display_data",
                    "data": {
                        "text/html": "Total execution time: 00:00:00.039"
                    },
                    "metadata": {}
                }
            ],
            "execution_count": 14
        },
        {
            "cell_type": "code",
            "source": [
                "CREATE PROCEDURE InsertCustomerWithServices_Partial\n",
                "    @CustomerName VARCHAR(255),\n",
                "    @CustomerEmail VARCHAR(255),\n",
                "    @CustomerPhone VARCHAR(255),\n",
                "    @ServiceNames dbo.StringList READONLY\n",
                "AS\n",
                "BEGIN\n",
                "    SET NOCOUNT ON;\n",
                "\n",
                "    DECLARE @CustomerID INT;\n",
                "    DECLARE @ServiceID INT;\n",
                "    DECLARE @ServiceName VARCHAR(255);\n",
                "\n",
                "    -- Try to insert customer first\n",
                "    BEGIN TRY\n",
                "        INSERT INTO Customers (CustomerName, CustomerEmail, CustomerPhone)\n",
                "        VALUES (@CustomerName, @CustomerEmail, @CustomerPhone);\n",
                "\n",
                "        SET @CustomerID = SCOPE_IDENTITY();\n",
                "    END TRY\n",
                "    BEGIN CATCH\n",
                "        PRINT 'Failed to insert customer.';\n",
                "        RETURN;\n",
                "    END CATCH\n",
                "\n",
                "    -- Process each service individually\n",
                "    DECLARE service_cursor CURSOR FOR SELECT Value FROM @ServiceNames;\n",
                "    OPEN service_cursor;\n",
                "    FETCH NEXT FROM service_cursor INTO @ServiceName;\n",
                "\n",
                "    WHILE @@FETCH_STATUS = 0\n",
                "    BEGIN\n",
                "        BEGIN TRY\n",
                "            -- Insert service if not exists\n",
                "            IF NOT EXISTS (SELECT 1 FROM Services WHERE ServiceName = @ServiceName)\n",
                "            BEGIN\n",
                "                INSERT INTO Services (ServiceName) VALUES (@ServiceName);\n",
                "            END\n",
                "\n",
                "            SELECT @ServiceID = ServiceID FROM Services WHERE ServiceName = @ServiceName;\n",
                "\n",
                "            -- Link customer to service\n",
                "            IF NOT EXISTS (\n",
                "                SELECT 1 FROM CustomerServices WHERE CustomerID = @CustomerID AND ServiceID = @ServiceID\n",
                "            )\n",
                "            BEGIN\n",
                "                INSERT INTO CustomerServices (CustomerID, ServiceID)\n",
                "                VALUES (@CustomerID, @ServiceID);\n",
                "            END\n",
                "        END TRY\n",
                "        BEGIN CATCH\n",
                "            PRINT '⚠️ Failed to link or insert service: ' + @ServiceName;\n",
                "        END CATCH\n",
                "\n",
                "        FETCH NEXT FROM service_cursor INTO @ServiceName;\n",
                "    END\n",
                "\n",
                "    CLOSE service_cursor;\n",
                "    DEALLOCATE service_cursor;\n",
                "\n",
                "    PRINT 'Customer inserted. Services linked where possible.';\n",
                "END;\n",
                "    "
            ],
            "metadata": {
                "language": "sql",
                "azdata_cell_guid": "10fc12d1-d4f1-45e6-b99b-6ce0d34cf5aa"
            },
            "outputs": [
                {
                    "output_type": "display_data",
                    "data": {
                        "text/html": "Commands completed successfully."
                    },
                    "metadata": {}
                },
                {
                    "output_type": "display_data",
                    "data": {
                        "text/html": "Total execution time: 00:00:00.026"
                    },
                    "metadata": {}
                }
            ],
            "execution_count": 6
        },
        {
            "cell_type": "code",
            "source": [
                "DECLARE @Services dbo.StringList;\n",
                "INSERT INTO @Services VALUES ('Internet'), ('Cable TV'), ('Gym Access');\n",
                "\n",
                "EXEC InsertCustomerWithServices_Partial\n",
                "    @CustomerName = 'John Doe',\n",
                "    @CustomerEmail = 'john@example.com',\n",
                "    @CustomerPhone = '1234567890',\n",
                "    @ServiceNames = @Services;\n",
                ""
            ],
            "metadata": {
                "language": "sql",
                "azdata_cell_guid": "182d4568-bfaa-438a-a7f3-12b9cd2e5333"
            },
            "outputs": [
                {
                    "output_type": "display_data",
                    "data": {
                        "text/html": "(3 rows affected)"
                    },
                    "metadata": {}
                },
                {
                    "output_type": "display_data",
                    "data": {
                        "text/html": "Customer inserted. Services linked where possible."
                    },
                    "metadata": {}
                },
                {
                    "output_type": "display_data",
                    "data": {
                        "text/html": "Total execution time: 00:00:00.075"
                    },
                    "metadata": {}
                }
            ],
            "execution_count": 7
        },
        {
            "cell_type": "markdown",
            "source": [
                "# reproduce the following concurrency issues under pessimistic isolation levels: dirty reads, non-repeatable reads, phantom reads, and a deadlock (4 different scenarios); you can use stored procedures and / or stand-alone queries; find solutions to solve / workaround the concurrency issues (grade 9);"
            ],
            "metadata": {
                "language": "sql",
                "azdata_cell_guid": "ab15638c-c029-4bdd-a824-06a11d79ea8a"
            },
            "attachments": {}
        },
        {
            "cell_type": "markdown",
            "source": [
                "## dirty read (uncommited)"
            ],
            "metadata": {
                "language": "sql",
                "azdata_cell_guid": "6166c272-36de-4768-a567-301305c67a2f"
            },
            "attachments": {}
        },
        {
            "cell_type": "code",
            "source": [
                "CREATE TABLE Accounts (\n",
                "    AccountID INT PRIMARY KEY IDENTITY(1,1),\n",
                "    AccountHolder VARCHAR(100),\n",
                "    Balance INT\n",
                ");\n",
                "\n",
                "INSERT INTO Accounts (AccountHolder, Balance) VALUES ('Alice', 1000), ('Bob', 1500);\n",
                ""
            ],
            "metadata": {
                "language": "sql",
                "azdata_cell_guid": "de1047cd-89a9-4ac8-901d-0fe53b7f3e10"
            },
            "outputs": [
                {
                    "output_type": "display_data",
                    "data": {
                        "text/html": "(2 rows affected)"
                    },
                    "metadata": {}
                },
                {
                    "output_type": "display_data",
                    "data": {
                        "text/html": "Total execution time: 00:00:00.039"
                    },
                    "metadata": {}
                }
            ],
            "execution_count": 8
        },
        {
            "cell_type": "code",
            "source": [
                "SET TRANSACTION ISOLATION LEVEL READ COMMITTED;\n",
                "BEGIN TRAN;\n",
                "UPDATE Accounts SET Balance = Balance - 100 WHERE AccountHolder = 'Alice';"
            ],
            "metadata": {
                "language": "sql",
                "azdata_cell_guid": "e168e67b-1110-4690-a5f2-8725fa46b870"
            },
            "outputs": [
                {
                    "output_type": "display_data",
                    "data": {
                        "text/html": "(1 row affected)"
                    },
                    "metadata": {}
                },
                {
                    "output_type": "display_data",
                    "data": {
                        "text/html": "Total execution time: 00:00:00.060"
                    },
                    "metadata": {}
                }
            ],
            "execution_count": 9
        },
        {
            "cell_type": "code",
            "source": [
                "SET TRANSACTION ISOLATION LEVEL READ UNCOMMITTED;\n",
                "SELECT * FROM Accounts WHERE AccountHolder = 'Alice';"
            ],
            "metadata": {
                "language": "sql",
                "azdata_cell_guid": "fe9d6576-d5cf-44e8-a3bc-dc1e82c41735"
            },
            "outputs": [
                {
                    "output_type": "display_data",
                    "data": {
                        "text/html": "(1 row affected)"
                    },
                    "metadata": {}
                },
                {
                    "output_type": "display_data",
                    "data": {
                        "text/html": "Total execution time: 00:00:00.031"
                    },
                    "metadata": {}
                },
                {
                    "output_type": "execute_result",
                    "metadata": {},
                    "execution_count": 10,
                    "data": {
                        "application/vnd.dataresource+json": {
                            "schema": {
                                "fields": [
                                    {
                                        "name": "AccountID"
                                    },
                                    {
                                        "name": "AccountHolder"
                                    },
                                    {
                                        "name": "Balance"
                                    }
                                ]
                            },
                            "data": [
                                {
                                    "AccountID": "1",
                                    "AccountHolder": "Alice",
                                    "Balance": "900"
                                }
                            ]
                        },
                        "text/html": [
                            "<table>",
                            "<tr><th>AccountID</th><th>AccountHolder</th><th>Balance</th></tr>",
                            "<tr><td>1</td><td>Alice</td><td>900</td></tr>",
                            "</table>"
                        ]
                    }
                }
            ],
            "execution_count": 10
        },
        {
            "cell_type": "code",
            "source": [
                "SET TRANSACTION ISOLATION LEVEL READ UNCOMMITTED;\n",
                "SELECT * FROM Accounts WHERE AccountHolder = 'Alice';\n",
                ""
            ],
            "metadata": {
                "language": "sql",
                "azdata_cell_guid": "b46630c5-8244-4eb6-bd01-23e5ca54839b"
            },
            "outputs": [
                {
                    "output_type": "display_data",
                    "data": {
                        "text/html": "(1 row affected)"
                    },
                    "metadata": {}
                },
                {
                    "output_type": "display_data",
                    "data": {
                        "text/html": "Total execution time: 00:00:00.027"
                    },
                    "metadata": {}
                },
                {
                    "output_type": "execute_result",
                    "metadata": {},
                    "execution_count": 11,
                    "data": {
                        "application/vnd.dataresource+json": {
                            "schema": {
                                "fields": [
                                    {
                                        "name": "AccountID"
                                    },
                                    {
                                        "name": "AccountHolder"
                                    },
                                    {
                                        "name": "Balance"
                                    }
                                ]
                            },
                            "data": [
                                {
                                    "AccountID": "1",
                                    "AccountHolder": "Alice",
                                    "Balance": "900"
                                }
                            ]
                        },
                        "text/html": [
                            "<table>",
                            "<tr><th>AccountID</th><th>AccountHolder</th><th>Balance</th></tr>",
                            "<tr><td>1</td><td>Alice</td><td>900</td></tr>",
                            "</table>"
                        ]
                    }
                }
            ],
            "execution_count": 11
        },
        {
            "cell_type": "code",
            "source": [
                "-- solution: avoid READ UNCOMMITTED; use READ COMMITTED or higher\n",
                "SET TRANSACTION ISOLATION LEVEL READ COMMITTED;"
            ],
            "metadata": {
                "language": "sql",
                "azdata_cell_guid": "142b7791-019d-4df9-85c2-64640e46781a",
                "tags": [
                    "hide_input"
                ]
            },
            "outputs": [
                {
                    "output_type": "display_data",
                    "data": {
                        "text/html": "Commands completed successfully."
                    },
                    "metadata": {}
                },
                {
                    "output_type": "display_data",
                    "data": {
                        "text/html": "Total execution time: 00:00:00.010"
                    },
                    "metadata": {}
                }
            ],
            "execution_count": 12
        },
        {
            "cell_type": "markdown",
            "source": [
                "## non-repeatable read (read committed)"
            ],
            "metadata": {
                "language": "sql",
                "azdata_cell_guid": "e78d78eb-972a-4d89-bf59-c096727b2ab7"
            },
            "attachments": {}
        },
        {
            "cell_type": "code",
            "source": [
                "SET TRANSACTION ISOLATION LEVEL READ COMMITTED;\n",
                "BEGIN TRAN;\n",
                "SELECT Balance FROM Accounts WHERE AccountHolder = 'Bob';"
            ],
            "metadata": {
                "language": "sql",
                "azdata_cell_guid": "7091b2dc-0496-4672-bb19-c39fe9063396"
            },
            "outputs": [
                {
                    "output_type": "display_data",
                    "data": {
                        "text/html": "(1 row affected)"
                    },
                    "metadata": {}
                },
                {
                    "output_type": "display_data",
                    "data": {
                        "text/html": "Total execution time: 00:00:00.025"
                    },
                    "metadata": {}
                },
                {
                    "output_type": "execute_result",
                    "metadata": {},
                    "execution_count": 13,
                    "data": {
                        "application/vnd.dataresource+json": {
                            "schema": {
                                "fields": [
                                    {
                                        "name": "Balance"
                                    }
                                ]
                            },
                            "data": [
                                {
                                    "Balance": "1500"
                                }
                            ]
                        },
                        "text/html": [
                            "<table>",
                            "<tr><th>Balance</th></tr>",
                            "<tr><td>1500</td></tr>",
                            "</table>"
                        ]
                    }
                }
            ],
            "execution_count": 13
        },
        {
            "cell_type": "code",
            "source": [
                "BEGIN TRAN;\n",
                "UPDATE Accounts SET Balance = Balance + 500 WHERE AccountHolder = 'Bob';\n",
                "COMMIT;"
            ],
            "metadata": {
                "language": "sql",
                "azdata_cell_guid": "2403c538-9b56-4aaf-8dd4-cf24cba4ccb1"
            },
            "outputs": [
                {
                    "output_type": "display_data",
                    "data": {
                        "text/html": "(1 row affected)"
                    },
                    "metadata": {}
                },
                {
                    "output_type": "display_data",
                    "data": {
                        "text/html": "Total execution time: 00:00:00.023"
                    },
                    "metadata": {}
                }
            ],
            "execution_count": 14
        },
        {
            "cell_type": "code",
            "source": [
                "SELECT Balance FROM Accounts WHERE AccountHolder = 'Bob';\n",
                "COMMIT;\n",
                ""
            ],
            "metadata": {
                "language": "sql",
                "azdata_cell_guid": "8a6806bd-57ec-43b3-b469-2de94743dd21"
            },
            "outputs": [
                {
                    "output_type": "display_data",
                    "data": {
                        "text/html": "(1 row affected)"
                    },
                    "metadata": {}
                },
                {
                    "output_type": "display_data",
                    "data": {
                        "text/html": "Total execution time: 00:00:00.019"
                    },
                    "metadata": {}
                },
                {
                    "output_type": "execute_result",
                    "metadata": {},
                    "execution_count": 15,
                    "data": {
                        "application/vnd.dataresource+json": {
                            "schema": {
                                "fields": [
                                    {
                                        "name": "Balance"
                                    }
                                ]
                            },
                            "data": [
                                {
                                    "Balance": "2000"
                                }
                            ]
                        },
                        "text/html": [
                            "<table>",
                            "<tr><th>Balance</th></tr>",
                            "<tr><td>2000</td></tr>",
                            "</table>"
                        ]
                    }
                }
            ],
            "execution_count": 15
        },
        {
            "cell_type": "code",
            "source": [
                "SET TRANSACTION ISOLATION LEVEL REPEATABLE READ;\n",
                ""
            ],
            "metadata": {
                "language": "sql",
                "azdata_cell_guid": "92c4431f-f2f1-4d2d-bf7c-86cd2deee1c6"
            },
            "outputs": [
                {
                    "output_type": "display_data",
                    "data": {
                        "text/html": "Commands completed successfully."
                    },
                    "metadata": {}
                },
                {
                    "output_type": "display_data",
                    "data": {
                        "text/html": "Total execution time: 00:00:00.005"
                    },
                    "metadata": {}
                }
            ],
            "execution_count": 16
        },
        {
            "cell_type": "markdown",
            "source": [
                "## phantom read(repeatable read)"
            ],
            "metadata": {
                "language": "sql",
                "azdata_cell_guid": "aa1fec82-168e-47c5-b776-2f259f464932"
            },
            "attachments": {}
        },
        {
            "cell_type": "code",
            "source": [
                "SET TRANSACTION ISOLATION LEVEL REPEATABLE READ;\n",
                "BEGIN TRAN;\n",
                "SELECT * FROM Accounts WHERE Balance >= 1000;"
            ],
            "metadata": {
                "language": "sql",
                "azdata_cell_guid": "10440044-bca9-4ea7-83fb-b6ed93cdce32"
            },
            "outputs": [
                {
                    "output_type": "display_data",
                    "data": {
                        "text/html": "(3 rows affected)"
                    },
                    "metadata": {}
                },
                {
                    "output_type": "display_data",
                    "data": {
                        "text/html": "Total execution time: 00:00:00.006"
                    },
                    "metadata": {}
                },
                {
                    "output_type": "execute_result",
                    "metadata": {},
                    "execution_count": 23,
                    "data": {
                        "application/vnd.dataresource+json": {
                            "schema": {
                                "fields": [
                                    {
                                        "name": "AccountID"
                                    },
                                    {
                                        "name": "AccountHolder"
                                    },
                                    {
                                        "name": "Balance"
                                    }
                                ]
                            },
                            "data": [
                                {
                                    "AccountID": "1",
                                    "AccountHolder": "Alice",
                                    "Balance": "1100"
                                },
                                {
                                    "AccountID": "2",
                                    "AccountHolder": "Bob",
                                    "Balance": "1800"
                                },
                                {
                                    "AccountID": "3",
                                    "AccountHolder": "Charlie",
                                    "Balance": "1200"
                                }
                            ]
                        },
                        "text/html": [
                            "<table>",
                            "<tr><th>AccountID</th><th>AccountHolder</th><th>Balance</th></tr>",
                            "<tr><td>1</td><td>Alice</td><td>1100</td></tr>",
                            "<tr><td>2</td><td>Bob</td><td>1800</td></tr>",
                            "<tr><td>3</td><td>Charlie</td><td>1200</td></tr>",
                            "</table>"
                        ]
                    }
                }
            ],
            "execution_count": 23
        },
        {
            "cell_type": "code",
            "source": [
                "BEGIN TRAN;\n",
                "INSERT INTO Accounts (AccountHolder, Balance) VALUES ('Charlie', 1200);\n",
                "COMMIT;"
            ],
            "metadata": {
                "language": "sql",
                "azdata_cell_guid": "37d1b18f-c290-4c88-89d0-bdb0f43a77ce"
            },
            "outputs": [
                {
                    "output_type": "display_data",
                    "data": {
                        "text/html": "(1 row affected)"
                    },
                    "metadata": {}
                },
                {
                    "output_type": "display_data",
                    "data": {
                        "text/html": "Total execution time: 00:00:00.003"
                    },
                    "metadata": {}
                }
            ],
            "execution_count": 24
        },
        {
            "cell_type": "code",
            "source": [
                "SELECT * FROM Accounts WHERE Balance >= 1000;\n",
                "COMMIT;"
            ],
            "metadata": {
                "language": "sql",
                "azdata_cell_guid": "1994c513-95f6-4973-b588-4768bec68b10"
            },
            "outputs": [
                {
                    "output_type": "display_data",
                    "data": {
                        "text/html": "(4 rows affected)"
                    },
                    "metadata": {}
                },
                {
                    "output_type": "display_data",
                    "data": {
                        "text/html": "Total execution time: 00:00:00.004"
                    },
                    "metadata": {}
                },
                {
                    "output_type": "execute_result",
                    "metadata": {},
                    "execution_count": 25,
                    "data": {
                        "application/vnd.dataresource+json": {
                            "schema": {
                                "fields": [
                                    {
                                        "name": "AccountID"
                                    },
                                    {
                                        "name": "AccountHolder"
                                    },
                                    {
                                        "name": "Balance"
                                    }
                                ]
                            },
                            "data": [
                                {
                                    "AccountID": "1",
                                    "AccountHolder": "Alice",
                                    "Balance": "1100"
                                },
                                {
                                    "AccountID": "2",
                                    "AccountHolder": "Bob",
                                    "Balance": "1800"
                                },
                                {
                                    "AccountID": "3",
                                    "AccountHolder": "Charlie",
                                    "Balance": "1200"
                                },
                                {
                                    "AccountID": "4",
                                    "AccountHolder": "Charlie",
                                    "Balance": "1200"
                                }
                            ]
                        },
                        "text/html": [
                            "<table>",
                            "<tr><th>AccountID</th><th>AccountHolder</th><th>Balance</th></tr>",
                            "<tr><td>1</td><td>Alice</td><td>1100</td></tr>",
                            "<tr><td>2</td><td>Bob</td><td>1800</td></tr>",
                            "<tr><td>3</td><td>Charlie</td><td>1200</td></tr>",
                            "<tr><td>4</td><td>Charlie</td><td>1200</td></tr>",
                            "</table>"
                        ]
                    }
                }
            ],
            "execution_count": 25
        },
        {
            "cell_type": "code",
            "source": [
                "SET TRANSACTION ISOLATION LEVEL SERIALIZABLE;\n",
                "-- use SERIALIZABLE isolation level to lock ranges"
            ],
            "metadata": {
                "language": "",
                "azdata_cell_guid": "a2730e8c-b229-4c53-88e5-1bc317fb2540"
            },
            "outputs": [
                {
                    "output_type": "display_data",
                    "data": {
                        "text/html": "Commands completed successfully."
                    },
                    "metadata": {}
                },
                {
                    "output_type": "display_data",
                    "data": {
                        "text/html": "Total execution time: 00:00:00.013"
                    },
                    "metadata": {}
                }
            ],
            "execution_count": 20
        },
        {
            "cell_type": "markdown",
            "source": [
                "## deadlock"
            ],
            "metadata": {
                "azdata_cell_guid": "bfbbaf86-895e-4226-ae6a-3ae985b0722a",
                "language": ""
            },
            "attachments": {}
        },
        {
            "cell_type": "code",
            "source": [
                "BEGIN TRAN;\n",
                "UPDATE Accounts SET Balance = Balance + 100 WHERE AccountHolder = 'Alice';\n",
                "WAITFOR DELAY '00:00:05';\n",
                "UPDATE Accounts SET Balance = Balance - 100 WHERE AccountHolder = 'Bob';\n",
                "-- COMMIT;\n",
                ""
            ],
            "metadata": {
                "azdata_cell_guid": "3b7f4fd2-a23e-4282-8747-dd2357b963f9",
                "language": "sql"
            },
            "outputs": [
                {
                    "output_type": "display_data",
                    "data": {
                        "text/html": "(1 row affected)"
                    },
                    "metadata": {}
                },
                {
                    "output_type": "display_data",
                    "data": {
                        "text/html": "(1 row affected)"
                    },
                    "metadata": {}
                },
                {
                    "output_type": "display_data",
                    "data": {
                        "text/html": "Total execution time: 00:00:05.008"
                    },
                    "metadata": {}
                }
            ],
            "execution_count": 22
        },
        {
            "cell_type": "code",
            "source": [
                "BEGIN TRAN;\n",
                "UPDATE Accounts SET Balance = Balance - 200 WHERE AccountHolder = 'Bob';\n",
                "WAITFOR DELAY '00:00:05';\n",
                "UPDATE Accounts SET Balance = Balance + 200 WHERE AccountHolder = 'Alice';\n",
                "-- COMMIT;\n",
                ""
            ],
            "metadata": {
                "language": "sql",
                "azdata_cell_guid": "d861fd69-dbae-4bdc-b91b-cf581a5a0988"
            },
            "outputs": [],
            "execution_count": null
        },
        {
            "cell_type": "code",
            "source": [
                "CREATE TABLE Books (\n",
                "    BookID INT PRIMARY KEY IDENTITY(1,1),\n",
                "    Title VARCHAR(200),\n",
                "    Stock INT\n",
                ");\n",
                "\n",
                "INSERT INTO Books (Title, Stock) VALUES ('The Great Gatsby', 5);\n",
                "GO\n",
                ""
            ],
            "metadata": {
                "language": "sql",
                "azdata_cell_guid": "7cda5347-32f8-4fa5-8dc8-d55d5ab9b37b"
            },
            "outputs": [
                {
                    "output_type": "error",
                    "evalue": "Msg 3952, Level 16, State 1, Line 7\nSnapshot isolation transaction failed accessing database 'Supplements' because snapshot isolation is not allowed in this database. Use ALTER DATABASE to allow snapshot isolation.",
                    "ename": "",
                    "traceback": []
                },
                {
                    "output_type": "display_data",
                    "data": {
                        "text/html": "Total execution time: 00:00:00.041"
                    },
                    "metadata": {}
                }
            ],
            "execution_count": 35
        },
        {
            "cell_type": "code",
            "source": [
                "SET TRANSACTION ISOLATION LEVEL SNAPSHOT;\n",
                "BEGIN TRAN;\n",
                "\n",
                "SELECT Stock FROM Books WHERE BookID = 1;\n",
                "-- The transaction is open here; do NOT run commit yet."
            ],
            "metadata": {
                "language": "sql",
                "azdata_cell_guid": "10cbabc5-3007-4edc-a7b8-dd319fdc681e"
            },
            "outputs": [
                {
                    "output_type": "error",
                    "evalue": "Msg 208, Level 16, State 1, Line 4\nInvalid object name 'Books'.",
                    "ename": "",
                    "traceback": []
                },
                {
                    "output_type": "display_data",
                    "data": {
                        "text/html": "Total execution time: 00:00:00.008"
                    },
                    "metadata": {}
                }
            ],
            "execution_count": 34
        },
        {
            "cell_type": "code",
            "source": [
                ""
            ],
            "metadata": {
                "language": "sql",
                "azdata_cell_guid": "36cd90bc-3c2e-470b-8cf8-e789450b6c69"
            },
            "outputs": [],
            "execution_count": null
        }
    ]
}